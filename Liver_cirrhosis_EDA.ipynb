{
  "nbformat": 4,
  "nbformat_minor": 0,
  "metadata": {
    "colab": {
      "provenance": []
    },
    "kernelspec": {
      "name": "python3",
      "display_name": "Python 3"
    },
    "language_info": {
      "name": "python"
    }
  },
  "cells": [
    {
      "cell_type": "code",
      "execution_count": null,
      "metadata": {
        "id": "DYrnP7fpYYK1"
      },
      "outputs": [],
      "source": [
        "import numpy as np\n",
        "import pandas as pd\n",
        "import matplotlib.pyplot as plt\n",
        "import seaborn as sns"
      ]
    },
    {
      "cell_type": "code",
      "source": [
        "df=pd.read_csv('/content/cirrhosis.csv')\n",
        "df\n",
        "len(df)"
      ],
      "metadata": {
        "colab": {
          "base_uri": "https://localhost:8080/"
        },
        "id": "RNnSmslrY9kd",
        "outputId": "a72c6c84-77e5-4803-b2db-88fbf92cc732"
      },
      "execution_count": null,
      "outputs": [
        {
          "output_type": "execute_result",
          "data": {
            "text/plain": [
              "418"
            ]
          },
          "metadata": {},
          "execution_count": 2
        }
      ]
    },
    {
      "cell_type": "code",
      "source": [
        "df.info()"
      ],
      "metadata": {
        "colab": {
          "base_uri": "https://localhost:8080/"
        },
        "id": "RDdnrgDjZJIo",
        "outputId": "64dde5bd-31e4-43ac-e8bd-146f18123cc6"
      },
      "execution_count": null,
      "outputs": [
        {
          "output_type": "stream",
          "name": "stdout",
          "text": [
            "<class 'pandas.core.frame.DataFrame'>\n",
            "RangeIndex: 418 entries, 0 to 417\n",
            "Data columns (total 20 columns):\n",
            " #   Column         Non-Null Count  Dtype  \n",
            "---  ------         --------------  -----  \n",
            " 0   ID             418 non-null    int64  \n",
            " 1   N_Days         418 non-null    int64  \n",
            " 2   Status         418 non-null    object \n",
            " 3   Drug           312 non-null    object \n",
            " 4   Age            418 non-null    int64  \n",
            " 5   Sex            418 non-null    object \n",
            " 6   Ascites        312 non-null    object \n",
            " 7   Hepatomegaly   312 non-null    object \n",
            " 8   Spiders        312 non-null    object \n",
            " 9   Edema          418 non-null    object \n",
            " 10  Bilirubin      418 non-null    float64\n",
            " 11  Cholesterol    284 non-null    float64\n",
            " 12  Albumin        418 non-null    float64\n",
            " 13  Copper         310 non-null    float64\n",
            " 14  Alk_Phos       312 non-null    float64\n",
            " 15  SGOT           312 non-null    float64\n",
            " 16  Tryglicerides  282 non-null    float64\n",
            " 17  Platelets      407 non-null    float64\n",
            " 18  Prothrombin    416 non-null    float64\n",
            " 19  Stage          412 non-null    float64\n",
            "dtypes: float64(10), int64(3), object(7)\n",
            "memory usage: 65.4+ KB\n"
          ]
        }
      ]
    },
    {
      "cell_type": "code",
      "source": [
        "df.describe().transpose().style.background_gradient(cmap = 'copper_r')"
      ],
      "metadata": {
        "colab": {
          "base_uri": "https://localhost:8080/",
          "height": 457
        },
        "id": "4NK8bwZrZO6X",
        "outputId": "620d691d-b5dc-4237-cb8e-87f0e84d02f4"
      },
      "execution_count": null,
      "outputs": [
        {
          "output_type": "execute_result",
          "data": {
            "text/plain": [
              "<pandas.io.formats.style.Styler at 0x7f9cd4f8d040>"
            ],
            "text/html": [
              "<style type=\"text/css\">\n",
              "#T_b2ef0_row0_col0, #T_b2ef0_row1_col0, #T_b2ef0_row2_col0, #T_b2ef0_row2_col1, #T_b2ef0_row2_col2, #T_b2ef0_row2_col3, #T_b2ef0_row2_col4, #T_b2ef0_row2_col5, #T_b2ef0_row2_col6, #T_b2ef0_row2_col7, #T_b2ef0_row3_col0, #T_b2ef0_row5_col0 {\n",
              "  background-color: #000000;\n",
              "  color: #f1f1f1;\n",
              "}\n",
              "#T_b2ef0_row0_col1, #T_b2ef0_row0_col4, #T_b2ef0_row0_col5, #T_b2ef0_row1_col3, #T_b2ef0_row6_col1, #T_b2ef0_row6_col6, #T_b2ef0_row8_col1, #T_b2ef0_row8_col4, #T_b2ef0_row8_col5, #T_b2ef0_row8_col6, #T_b2ef0_row9_col1, #T_b2ef0_row9_col4, #T_b2ef0_row9_col5, #T_b2ef0_row9_col6, #T_b2ef0_row10_col3 {\n",
              "  background-color: #ffc67e;\n",
              "  color: #000000;\n",
              "}\n",
              "#T_b2ef0_row0_col2 {\n",
              "  background-color: #ffc17b;\n",
              "  color: #000000;\n",
              "}\n",
              "#T_b2ef0_row0_col3, #T_b2ef0_row3_col1, #T_b2ef0_row3_col2, #T_b2ef0_row3_col3, #T_b2ef0_row3_col4, #T_b2ef0_row3_col5, #T_b2ef0_row3_col6, #T_b2ef0_row3_col7, #T_b2ef0_row5_col1, #T_b2ef0_row5_col2, #T_b2ef0_row5_col3, #T_b2ef0_row5_col4, #T_b2ef0_row5_col5, #T_b2ef0_row5_col6, #T_b2ef0_row5_col7, #T_b2ef0_row6_col3, #T_b2ef0_row6_col4, #T_b2ef0_row6_col5, #T_b2ef0_row8_col3, #T_b2ef0_row9_col0, #T_b2ef0_row9_col3, #T_b2ef0_row11_col1, #T_b2ef0_row11_col2, #T_b2ef0_row11_col3, #T_b2ef0_row11_col4, #T_b2ef0_row11_col5, #T_b2ef0_row11_col6, #T_b2ef0_row11_col7, #T_b2ef0_row12_col1, #T_b2ef0_row12_col2, #T_b2ef0_row12_col3, #T_b2ef0_row12_col4, #T_b2ef0_row12_col5, #T_b2ef0_row12_col6, #T_b2ef0_row12_col7 {\n",
              "  background-color: #ffc77f;\n",
              "  color: #000000;\n",
              "}\n",
              "#T_b2ef0_row0_col6, #T_b2ef0_row0_col7, #T_b2ef0_row4_col0, #T_b2ef0_row4_col3, #T_b2ef0_row8_col2, #T_b2ef0_row10_col1, #T_b2ef0_row10_col4, #T_b2ef0_row10_col5, #T_b2ef0_row10_col6 {\n",
              "  background-color: #ffc57d;\n",
              "  color: #000000;\n",
              "}\n",
              "#T_b2ef0_row1_col1 {\n",
              "  background-color: #ffb372;\n",
              "  color: #000000;\n",
              "}\n",
              "#T_b2ef0_row1_col2 {\n",
              "  background-color: #e08d5a;\n",
              "  color: #f1f1f1;\n",
              "}\n",
              "#T_b2ef0_row1_col4, #T_b2ef0_row7_col5 {\n",
              "  background-color: #ffba76;\n",
              "  color: #000000;\n",
              "}\n",
              "#T_b2ef0_row1_col5, #T_b2ef0_row7_col6 {\n",
              "  background-color: #ffb573;\n",
              "  color: #000000;\n",
              "}\n",
              "#T_b2ef0_row1_col6 {\n",
              "  background-color: #ffaf6f;\n",
              "  color: #000000;\n",
              "}\n",
              "#T_b2ef0_row1_col7 {\n",
              "  background-color: #ffa66a;\n",
              "  color: #000000;\n",
              "}\n",
              "#T_b2ef0_row4_col1, #T_b2ef0_row6_col2, #T_b2ef0_row6_col7, #T_b2ef0_row9_col7, #T_b2ef0_row10_col2, #T_b2ef0_row10_col7 {\n",
              "  background-color: #ffc37c;\n",
              "  color: #000000;\n",
              "}\n",
              "#T_b2ef0_row4_col2, #T_b2ef0_row4_col7 {\n",
              "  background-color: #ffbb77;\n",
              "  color: #000000;\n",
              "}\n",
              "#T_b2ef0_row4_col4, #T_b2ef0_row4_col5, #T_b2ef0_row4_col6, #T_b2ef0_row8_col7, #T_b2ef0_row9_col2 {\n",
              "  background-color: #ffc47d;\n",
              "  color: #000000;\n",
              "}\n",
              "#T_b2ef0_row6_col0 {\n",
              "  background-color: #fb9f65;\n",
              "  color: #000000;\n",
              "}\n",
              "#T_b2ef0_row7_col0, #T_b2ef0_row8_col0 {\n",
              "  background-color: #f69b63;\n",
              "  color: #000000;\n",
              "}\n",
              "#T_b2ef0_row7_col1 {\n",
              "  background-color: #ffb271;\n",
              "  color: #000000;\n",
              "}\n",
              "#T_b2ef0_row7_col2 {\n",
              "  background-color: #8a5738;\n",
              "  color: #f1f1f1;\n",
              "}\n",
              "#T_b2ef0_row7_col3 {\n",
              "  background-color: #ffc27b;\n",
              "  color: #000000;\n",
              "}\n",
              "#T_b2ef0_row7_col4 {\n",
              "  background-color: #ffbc78;\n",
              "  color: #000000;\n",
              "}\n",
              "#T_b2ef0_row7_col7 {\n",
              "  background-color: #a36742;\n",
              "  color: #f1f1f1;\n",
              "}\n",
              "#T_b2ef0_row10_col0 {\n",
              "  background-color: #19100a;\n",
              "  color: #f1f1f1;\n",
              "}\n",
              "#T_b2ef0_row11_col0 {\n",
              "  background-color: #040201;\n",
              "  color: #f1f1f1;\n",
              "}\n",
              "#T_b2ef0_row12_col0 {\n",
              "  background-color: #0e0905;\n",
              "  color: #f1f1f1;\n",
              "}\n",
              "</style>\n",
              "<table id=\"T_b2ef0_\" class=\"dataframe\">\n",
              "  <thead>\n",
              "    <tr>\n",
              "      <th class=\"blank level0\" >&nbsp;</th>\n",
              "      <th class=\"col_heading level0 col0\" >count</th>\n",
              "      <th class=\"col_heading level0 col1\" >mean</th>\n",
              "      <th class=\"col_heading level0 col2\" >std</th>\n",
              "      <th class=\"col_heading level0 col3\" >min</th>\n",
              "      <th class=\"col_heading level0 col4\" >25%</th>\n",
              "      <th class=\"col_heading level0 col5\" >50%</th>\n",
              "      <th class=\"col_heading level0 col6\" >75%</th>\n",
              "      <th class=\"col_heading level0 col7\" >max</th>\n",
              "    </tr>\n",
              "  </thead>\n",
              "  <tbody>\n",
              "    <tr>\n",
              "      <th id=\"T_b2ef0_level0_row0\" class=\"row_heading level0 row0\" >ID</th>\n",
              "      <td id=\"T_b2ef0_row0_col0\" class=\"data row0 col0\" >418.000000</td>\n",
              "      <td id=\"T_b2ef0_row0_col1\" class=\"data row0 col1\" >209.500000</td>\n",
              "      <td id=\"T_b2ef0_row0_col2\" class=\"data row0 col2\" >120.810458</td>\n",
              "      <td id=\"T_b2ef0_row0_col3\" class=\"data row0 col3\" >1.000000</td>\n",
              "      <td id=\"T_b2ef0_row0_col4\" class=\"data row0 col4\" >105.250000</td>\n",
              "      <td id=\"T_b2ef0_row0_col5\" class=\"data row0 col5\" >209.500000</td>\n",
              "      <td id=\"T_b2ef0_row0_col6\" class=\"data row0 col6\" >313.750000</td>\n",
              "      <td id=\"T_b2ef0_row0_col7\" class=\"data row0 col7\" >418.000000</td>\n",
              "    </tr>\n",
              "    <tr>\n",
              "      <th id=\"T_b2ef0_level0_row1\" class=\"row_heading level0 row1\" >N_Days</th>\n",
              "      <td id=\"T_b2ef0_row1_col0\" class=\"data row1 col0\" >418.000000</td>\n",
              "      <td id=\"T_b2ef0_row1_col1\" class=\"data row1 col1\" >1917.782297</td>\n",
              "      <td id=\"T_b2ef0_row1_col2\" class=\"data row1 col2\" >1104.672992</td>\n",
              "      <td id=\"T_b2ef0_row1_col3\" class=\"data row1 col3\" >41.000000</td>\n",
              "      <td id=\"T_b2ef0_row1_col4\" class=\"data row1 col4\" >1092.750000</td>\n",
              "      <td id=\"T_b2ef0_row1_col5\" class=\"data row1 col5\" >1730.000000</td>\n",
              "      <td id=\"T_b2ef0_row1_col6\" class=\"data row1 col6\" >2613.500000</td>\n",
              "      <td id=\"T_b2ef0_row1_col7\" class=\"data row1 col7\" >4795.000000</td>\n",
              "    </tr>\n",
              "    <tr>\n",
              "      <th id=\"T_b2ef0_level0_row2\" class=\"row_heading level0 row2\" >Age</th>\n",
              "      <td id=\"T_b2ef0_row2_col0\" class=\"data row2 col0\" >418.000000</td>\n",
              "      <td id=\"T_b2ef0_row2_col1\" class=\"data row2 col1\" >18533.351675</td>\n",
              "      <td id=\"T_b2ef0_row2_col2\" class=\"data row2 col2\" >3815.845055</td>\n",
              "      <td id=\"T_b2ef0_row2_col3\" class=\"data row2 col3\" >9598.000000</td>\n",
              "      <td id=\"T_b2ef0_row2_col4\" class=\"data row2 col4\" >15644.500000</td>\n",
              "      <td id=\"T_b2ef0_row2_col5\" class=\"data row2 col5\" >18628.000000</td>\n",
              "      <td id=\"T_b2ef0_row2_col6\" class=\"data row2 col6\" >21272.500000</td>\n",
              "      <td id=\"T_b2ef0_row2_col7\" class=\"data row2 col7\" >28650.000000</td>\n",
              "    </tr>\n",
              "    <tr>\n",
              "      <th id=\"T_b2ef0_level0_row3\" class=\"row_heading level0 row3\" >Bilirubin</th>\n",
              "      <td id=\"T_b2ef0_row3_col0\" class=\"data row3 col0\" >418.000000</td>\n",
              "      <td id=\"T_b2ef0_row3_col1\" class=\"data row3 col1\" >3.220813</td>\n",
              "      <td id=\"T_b2ef0_row3_col2\" class=\"data row3 col2\" >4.407506</td>\n",
              "      <td id=\"T_b2ef0_row3_col3\" class=\"data row3 col3\" >0.300000</td>\n",
              "      <td id=\"T_b2ef0_row3_col4\" class=\"data row3 col4\" >0.800000</td>\n",
              "      <td id=\"T_b2ef0_row3_col5\" class=\"data row3 col5\" >1.400000</td>\n",
              "      <td id=\"T_b2ef0_row3_col6\" class=\"data row3 col6\" >3.400000</td>\n",
              "      <td id=\"T_b2ef0_row3_col7\" class=\"data row3 col7\" >28.000000</td>\n",
              "    </tr>\n",
              "    <tr>\n",
              "      <th id=\"T_b2ef0_level0_row4\" class=\"row_heading level0 row4\" >Cholesterol</th>\n",
              "      <td id=\"T_b2ef0_row4_col0\" class=\"data row4 col0\" >284.000000</td>\n",
              "      <td id=\"T_b2ef0_row4_col1\" class=\"data row4 col1\" >369.510563</td>\n",
              "      <td id=\"T_b2ef0_row4_col2\" class=\"data row4 col2\" >231.944545</td>\n",
              "      <td id=\"T_b2ef0_row4_col3\" class=\"data row4 col3\" >120.000000</td>\n",
              "      <td id=\"T_b2ef0_row4_col4\" class=\"data row4 col4\" >249.500000</td>\n",
              "      <td id=\"T_b2ef0_row4_col5\" class=\"data row4 col5\" >309.500000</td>\n",
              "      <td id=\"T_b2ef0_row4_col6\" class=\"data row4 col6\" >400.000000</td>\n",
              "      <td id=\"T_b2ef0_row4_col7\" class=\"data row4 col7\" >1775.000000</td>\n",
              "    </tr>\n",
              "    <tr>\n",
              "      <th id=\"T_b2ef0_level0_row5\" class=\"row_heading level0 row5\" >Albumin</th>\n",
              "      <td id=\"T_b2ef0_row5_col0\" class=\"data row5 col0\" >418.000000</td>\n",
              "      <td id=\"T_b2ef0_row5_col1\" class=\"data row5 col1\" >3.497440</td>\n",
              "      <td id=\"T_b2ef0_row5_col2\" class=\"data row5 col2\" >0.424972</td>\n",
              "      <td id=\"T_b2ef0_row5_col3\" class=\"data row5 col3\" >1.960000</td>\n",
              "      <td id=\"T_b2ef0_row5_col4\" class=\"data row5 col4\" >3.242500</td>\n",
              "      <td id=\"T_b2ef0_row5_col5\" class=\"data row5 col5\" >3.530000</td>\n",
              "      <td id=\"T_b2ef0_row5_col6\" class=\"data row5 col6\" >3.770000</td>\n",
              "      <td id=\"T_b2ef0_row5_col7\" class=\"data row5 col7\" >4.640000</td>\n",
              "    </tr>\n",
              "    <tr>\n",
              "      <th id=\"T_b2ef0_level0_row6\" class=\"row_heading level0 row6\" >Copper</th>\n",
              "      <td id=\"T_b2ef0_row6_col0\" class=\"data row6 col0\" >310.000000</td>\n",
              "      <td id=\"T_b2ef0_row6_col1\" class=\"data row6 col1\" >97.648387</td>\n",
              "      <td id=\"T_b2ef0_row6_col2\" class=\"data row6 col2\" >85.613920</td>\n",
              "      <td id=\"T_b2ef0_row6_col3\" class=\"data row6 col3\" >4.000000</td>\n",
              "      <td id=\"T_b2ef0_row6_col4\" class=\"data row6 col4\" >41.250000</td>\n",
              "      <td id=\"T_b2ef0_row6_col5\" class=\"data row6 col5\" >73.000000</td>\n",
              "      <td id=\"T_b2ef0_row6_col6\" class=\"data row6 col6\" >123.000000</td>\n",
              "      <td id=\"T_b2ef0_row6_col7\" class=\"data row6 col7\" >588.000000</td>\n",
              "    </tr>\n",
              "    <tr>\n",
              "      <th id=\"T_b2ef0_level0_row7\" class=\"row_heading level0 row7\" >Alk_Phos</th>\n",
              "      <td id=\"T_b2ef0_row7_col0\" class=\"data row7 col0\" >312.000000</td>\n",
              "      <td id=\"T_b2ef0_row7_col1\" class=\"data row7 col1\" >1982.655769</td>\n",
              "      <td id=\"T_b2ef0_row7_col2\" class=\"data row7 col2\" >2140.388824</td>\n",
              "      <td id=\"T_b2ef0_row7_col3\" class=\"data row7 col3\" >289.000000</td>\n",
              "      <td id=\"T_b2ef0_row7_col4\" class=\"data row7 col4\" >871.500000</td>\n",
              "      <td id=\"T_b2ef0_row7_col5\" class=\"data row7 col5\" >1259.000000</td>\n",
              "      <td id=\"T_b2ef0_row7_col6\" class=\"data row7 col6\" >1980.000000</td>\n",
              "      <td id=\"T_b2ef0_row7_col7\" class=\"data row7 col7\" >13862.400000</td>\n",
              "    </tr>\n",
              "    <tr>\n",
              "      <th id=\"T_b2ef0_level0_row8\" class=\"row_heading level0 row8\" >SGOT</th>\n",
              "      <td id=\"T_b2ef0_row8_col0\" class=\"data row8 col0\" >312.000000</td>\n",
              "      <td id=\"T_b2ef0_row8_col1\" class=\"data row8 col1\" >122.556346</td>\n",
              "      <td id=\"T_b2ef0_row8_col2\" class=\"data row8 col2\" >56.699525</td>\n",
              "      <td id=\"T_b2ef0_row8_col3\" class=\"data row8 col3\" >26.350000</td>\n",
              "      <td id=\"T_b2ef0_row8_col4\" class=\"data row8 col4\" >80.600000</td>\n",
              "      <td id=\"T_b2ef0_row8_col5\" class=\"data row8 col5\" >114.700000</td>\n",
              "      <td id=\"T_b2ef0_row8_col6\" class=\"data row8 col6\" >151.900000</td>\n",
              "      <td id=\"T_b2ef0_row8_col7\" class=\"data row8 col7\" >457.250000</td>\n",
              "    </tr>\n",
              "    <tr>\n",
              "      <th id=\"T_b2ef0_level0_row9\" class=\"row_heading level0 row9\" >Tryglicerides</th>\n",
              "      <td id=\"T_b2ef0_row9_col0\" class=\"data row9 col0\" >282.000000</td>\n",
              "      <td id=\"T_b2ef0_row9_col1\" class=\"data row9 col1\" >124.702128</td>\n",
              "      <td id=\"T_b2ef0_row9_col2\" class=\"data row9 col2\" >65.148639</td>\n",
              "      <td id=\"T_b2ef0_row9_col3\" class=\"data row9 col3\" >33.000000</td>\n",
              "      <td id=\"T_b2ef0_row9_col4\" class=\"data row9 col4\" >84.250000</td>\n",
              "      <td id=\"T_b2ef0_row9_col5\" class=\"data row9 col5\" >108.000000</td>\n",
              "      <td id=\"T_b2ef0_row9_col6\" class=\"data row9 col6\" >151.000000</td>\n",
              "      <td id=\"T_b2ef0_row9_col7\" class=\"data row9 col7\" >598.000000</td>\n",
              "    </tr>\n",
              "    <tr>\n",
              "      <th id=\"T_b2ef0_level0_row10\" class=\"row_heading level0 row10\" >Platelets</th>\n",
              "      <td id=\"T_b2ef0_row10_col0\" class=\"data row10 col0\" >407.000000</td>\n",
              "      <td id=\"T_b2ef0_row10_col1\" class=\"data row10 col1\" >257.024570</td>\n",
              "      <td id=\"T_b2ef0_row10_col2\" class=\"data row10 col2\" >98.325585</td>\n",
              "      <td id=\"T_b2ef0_row10_col3\" class=\"data row10 col3\" >62.000000</td>\n",
              "      <td id=\"T_b2ef0_row10_col4\" class=\"data row10 col4\" >188.500000</td>\n",
              "      <td id=\"T_b2ef0_row10_col5\" class=\"data row10 col5\" >251.000000</td>\n",
              "      <td id=\"T_b2ef0_row10_col6\" class=\"data row10 col6\" >318.000000</td>\n",
              "      <td id=\"T_b2ef0_row10_col7\" class=\"data row10 col7\" >721.000000</td>\n",
              "    </tr>\n",
              "    <tr>\n",
              "      <th id=\"T_b2ef0_level0_row11\" class=\"row_heading level0 row11\" >Prothrombin</th>\n",
              "      <td id=\"T_b2ef0_row11_col0\" class=\"data row11 col0\" >416.000000</td>\n",
              "      <td id=\"T_b2ef0_row11_col1\" class=\"data row11 col1\" >10.731731</td>\n",
              "      <td id=\"T_b2ef0_row11_col2\" class=\"data row11 col2\" >1.022000</td>\n",
              "      <td id=\"T_b2ef0_row11_col3\" class=\"data row11 col3\" >9.000000</td>\n",
              "      <td id=\"T_b2ef0_row11_col4\" class=\"data row11 col4\" >10.000000</td>\n",
              "      <td id=\"T_b2ef0_row11_col5\" class=\"data row11 col5\" >10.600000</td>\n",
              "      <td id=\"T_b2ef0_row11_col6\" class=\"data row11 col6\" >11.100000</td>\n",
              "      <td id=\"T_b2ef0_row11_col7\" class=\"data row11 col7\" >18.000000</td>\n",
              "    </tr>\n",
              "    <tr>\n",
              "      <th id=\"T_b2ef0_level0_row12\" class=\"row_heading level0 row12\" >Stage</th>\n",
              "      <td id=\"T_b2ef0_row12_col0\" class=\"data row12 col0\" >412.000000</td>\n",
              "      <td id=\"T_b2ef0_row12_col1\" class=\"data row12 col1\" >3.024272</td>\n",
              "      <td id=\"T_b2ef0_row12_col2\" class=\"data row12 col2\" >0.882042</td>\n",
              "      <td id=\"T_b2ef0_row12_col3\" class=\"data row12 col3\" >1.000000</td>\n",
              "      <td id=\"T_b2ef0_row12_col4\" class=\"data row12 col4\" >2.000000</td>\n",
              "      <td id=\"T_b2ef0_row12_col5\" class=\"data row12 col5\" >3.000000</td>\n",
              "      <td id=\"T_b2ef0_row12_col6\" class=\"data row12 col6\" >4.000000</td>\n",
              "      <td id=\"T_b2ef0_row12_col7\" class=\"data row12 col7\" >4.000000</td>\n",
              "    </tr>\n",
              "  </tbody>\n",
              "</table>\n"
            ]
          },
          "metadata": {},
          "execution_count": 4
        }
      ]
    },
    {
      "cell_type": "markdown",
      "source": [
        "**Handling missing values**"
      ],
      "metadata": {
        "id": "u_oVsHbHzg6b"
      }
    },
    {
      "cell_type": "code",
      "source": [
        "df.isna().sum().transpose()"
      ],
      "metadata": {
        "colab": {
          "base_uri": "https://localhost:8080/"
        },
        "id": "UsRybg9Ezr2R",
        "outputId": "2a3be1d8-f469-4de9-d742-5a202392b163"
      },
      "execution_count": null,
      "outputs": [
        {
          "output_type": "execute_result",
          "data": {
            "text/plain": [
              "ID                 0\n",
              "N_Days             0\n",
              "Status             0\n",
              "Drug             106\n",
              "Age                0\n",
              "Sex                0\n",
              "Ascites          106\n",
              "Hepatomegaly     106\n",
              "Spiders          106\n",
              "Edema              0\n",
              "Bilirubin          0\n",
              "Cholesterol      134\n",
              "Albumin            0\n",
              "Copper           108\n",
              "Alk_Phos         106\n",
              "SGOT             106\n",
              "Tryglicerides    136\n",
              "Platelets         11\n",
              "Prothrombin        2\n",
              "Stage              6\n",
              "dtype: int64"
            ]
          },
          "metadata": {},
          "execution_count": 5
        }
      ]
    },
    {
      "cell_type": "code",
      "source": [
        "plt.figure(figsize=(5,3))\n",
        "sns.heatmap(df.isnull(),cmap='viridis',vmin=0.5, vmax=1)"
      ],
      "metadata": {
        "id": "UZJ7zWI5rCoQ",
        "colab": {
          "base_uri": "https://localhost:8080/",
          "height": 296
        },
        "outputId": "ef321dab-50a2-4017-a19f-9024c5efa6e5"
      },
      "execution_count": null,
      "outputs": [
        {
          "output_type": "execute_result",
          "data": {
            "text/plain": [
              "<matplotlib.axes._subplots.AxesSubplot at 0x7f9cd4c47c10>"
            ]
          },
          "metadata": {},
          "execution_count": 6
        },
        {
          "output_type": "display_data",
          "data": {
            "text/plain": [
              "<Figure size 360x216 with 2 Axes>"
            ],
            "image/png": "[encoded data removed]"
          },
          "metadata": {
            "needs_background": "light"
          }
        }
      ]
    },
    {
      "cell_type": "code",
      "source": [
        "df=df.dropna(subset=['Stage'])\n",
        "len(df)"
      ],
      "metadata": {
        "id": "7yHx89B1jiSS",
        "colab": {
          "base_uri": "https://localhost:8080/"
        },
        "outputId": "2e0a9f93-bc27-41c4-a72e-a073abb64bcd"
      },
      "execution_count": null,
      "outputs": [
        {
          "output_type": "execute_result",
          "data": {
            "text/plain": [
              "412"
            ]
          },
          "metadata": {},
          "execution_count": 7
        }
      ]
    },
    {
      "cell_type": "code",
      "source": [
        "df.select_dtypes(include=(['int64','float64'])).isna().sum()"
      ],
      "metadata": {
        "id": "E90OrmUXcci1",
        "colab": {
          "base_uri": "https://localhost:8080/"
        },
        "outputId": "f9eb45bb-ef39-4c87-ec6e-db0d0cfd999f"
      },
      "execution_count": null,
      "outputs": [
        {
          "output_type": "execute_result",
          "data": {
            "text/plain": [
              "ID                 0\n",
              "N_Days             0\n",
              "Age                0\n",
              "Bilirubin          0\n",
              "Cholesterol      128\n",
              "Albumin            0\n",
              "Copper           102\n",
              "Alk_Phos         100\n",
              "SGOT             100\n",
              "Tryglicerides    130\n",
              "Platelets         11\n",
              "Prothrombin        2\n",
              "Stage              0\n",
              "dtype: int64"
            ]
          },
          "metadata": {},
          "execution_count": 8
        }
      ]
    },
    {
      "cell_type": "code",
      "source": [
        "df.select_dtypes(include=(['object'])).isna().sum()"
      ],
      "metadata": {
        "colab": {
          "base_uri": "https://localhost:8080/"
        },
        "id": "0gq3th9adAgc",
        "outputId": "6ef7f231-d58b-424c-c59d-a4836d98c970"
      },
      "execution_count": null,
      "outputs": [
        {
          "output_type": "execute_result",
          "data": {
            "text/plain": [
              "Status            0\n",
              "Drug            100\n",
              "Sex               0\n",
              "Ascites         100\n",
              "Hepatomegaly    100\n",
              "Spiders         100\n",
              "Edema             0\n",
              "dtype: int64"
            ]
          },
          "metadata": {},
          "execution_count": 9
        }
      ]
    },
    {
      "cell_type": "code",
      "source": [
        "cnt_null=0\n",
        "length_df=0\n",
        "for col in df.columns:\n",
        "  null=0\n",
        "  l=0\n",
        "  null = df[col].isnull().sum()\n",
        "  l=len(df[col])\n",
        "  cnt_null=cnt_null+null\n",
        "  length_df=length_df+l\n",
        "\n",
        "percent=np.ceil(100*cnt_null/length_df)\n",
        "print(\"percent of missing values\",percent)"
      ],
      "metadata": {
        "colab": {
          "base_uri": "https://localhost:8080/"
        },
        "id": "NXziZd2f6RjH",
        "outputId": "21e89901-2482-4811-c6e7-53cdcdb33ac3"
      },
      "execution_count": null,
      "outputs": [
        {
          "output_type": "stream",
          "name": "stdout",
          "text": [
            "percent of missing values 12.0\n"
          ]
        }
      ]
    },
    {
      "cell_type": "code",
      "source": [
        "df_mv=pd.DataFrame({'percentage': round((df.isnull().mean())*100,4)})\n",
        "df_mv.sort_values(by='percentage',ascending= False).style.background_gradient(cmap='summer')\n",
        "# //instead of mean check is median would work or suit well"
      ],
      "metadata": {
        "colab": {
          "base_uri": "https://localhost:8080/",
          "height": 676
        },
        "id": "ABHN0q7n17eo",
        "outputId": "4a6c2fbd-18f1-4669-935c-0272aed7a63c"
      },
      "execution_count": null,
      "outputs": [
        {
          "output_type": "execute_result",
          "data": {
            "text/plain": [
              "<pandas.io.formats.style.Styler at 0x7f9cd4c85d30>"
            ],
            "text/html": [
              "<style type=\"text/css\">\n",
              "#T_23a37_row0_col0 {\n",
              "  background-color: #ffff66;\n",
              "  color: #000000;\n",
              "}\n",
              "#T_23a37_row1_col0 {\n",
              "  background-color: #fcfe66;\n",
              "  color: #000000;\n",
              "}\n",
              "#T_23a37_row2_col0 {\n",
              "  background-color: #c8e366;\n",
              "  color: #000000;\n",
              "}\n",
              "#T_23a37_row3_col0, #T_23a37_row4_col0, #T_23a37_row5_col0, #T_23a37_row6_col0, #T_23a37_row7_col0, #T_23a37_row8_col0 {\n",
              "  background-color: #c4e266;\n",
              "  color: #000000;\n",
              "}\n",
              "#T_23a37_row9_col0 {\n",
              "  background-color: #158a66;\n",
              "  color: #f1f1f1;\n",
              "}\n",
              "#T_23a37_row10_col0 {\n",
              "  background-color: #038166;\n",
              "  color: #f1f1f1;\n",
              "}\n",
              "#T_23a37_row11_col0, #T_23a37_row12_col0, #T_23a37_row13_col0, #T_23a37_row14_col0, #T_23a37_row15_col0, #T_23a37_row16_col0, #T_23a37_row17_col0, #T_23a37_row18_col0, #T_23a37_row19_col0 {\n",
              "  background-color: #008066;\n",
              "  color: #f1f1f1;\n",
              "}\n",
              "</style>\n",
              "<table id=\"T_23a37_\" class=\"dataframe\">\n",
              "  <thead>\n",
              "    <tr>\n",
              "      <th class=\"blank level0\" >&nbsp;</th>\n",
              "      <th class=\"col_heading level0 col0\" >percentage</th>\n",
              "    </tr>\n",
              "  </thead>\n",
              "  <tbody>\n",
              "    <tr>\n",
              "      <th id=\"T_23a37_level0_row0\" class=\"row_heading level0 row0\" >Tryglicerides</th>\n",
              "      <td id=\"T_23a37_row0_col0\" class=\"data row0 col0\" >31.553400</td>\n",
              "    </tr>\n",
              "    <tr>\n",
              "      <th id=\"T_23a37_level0_row1\" class=\"row_heading level0 row1\" >Cholesterol</th>\n",
              "      <td id=\"T_23a37_row1_col0\" class=\"data row1 col0\" >31.068000</td>\n",
              "    </tr>\n",
              "    <tr>\n",
              "      <th id=\"T_23a37_level0_row2\" class=\"row_heading level0 row2\" >Copper</th>\n",
              "      <td id=\"T_23a37_row2_col0\" class=\"data row2 col0\" >24.757300</td>\n",
              "    </tr>\n",
              "    <tr>\n",
              "      <th id=\"T_23a37_level0_row3\" class=\"row_heading level0 row3\" >Drug</th>\n",
              "      <td id=\"T_23a37_row3_col0\" class=\"data row3 col0\" >24.271800</td>\n",
              "    </tr>\n",
              "    <tr>\n",
              "      <th id=\"T_23a37_level0_row4\" class=\"row_heading level0 row4\" >Ascites</th>\n",
              "      <td id=\"T_23a37_row4_col0\" class=\"data row4 col0\" >24.271800</td>\n",
              "    </tr>\n",
              "    <tr>\n",
              "      <th id=\"T_23a37_level0_row5\" class=\"row_heading level0 row5\" >Hepatomegaly</th>\n",
              "      <td id=\"T_23a37_row5_col0\" class=\"data row5 col0\" >24.271800</td>\n",
              "    </tr>\n",
              "    <tr>\n",
              "      <th id=\"T_23a37_level0_row6\" class=\"row_heading level0 row6\" >Spiders</th>\n",
              "      <td id=\"T_23a37_row6_col0\" class=\"data row6 col0\" >24.271800</td>\n",
              "    </tr>\n",
              "    <tr>\n",
              "      <th id=\"T_23a37_level0_row7\" class=\"row_heading level0 row7\" >SGOT</th>\n",
              "      <td id=\"T_23a37_row7_col0\" class=\"data row7 col0\" >24.271800</td>\n",
              "    </tr>\n",
              "    <tr>\n",
              "      <th id=\"T_23a37_level0_row8\" class=\"row_heading level0 row8\" >Alk_Phos</th>\n",
              "      <td id=\"T_23a37_row8_col0\" class=\"data row8 col0\" >24.271800</td>\n",
              "    </tr>\n",
              "    <tr>\n",
              "      <th id=\"T_23a37_level0_row9\" class=\"row_heading level0 row9\" >Platelets</th>\n",
              "      <td id=\"T_23a37_row9_col0\" class=\"data row9 col0\" >2.669900</td>\n",
              "    </tr>\n",
              "    <tr>\n",
              "      <th id=\"T_23a37_level0_row10\" class=\"row_heading level0 row10\" >Prothrombin</th>\n",
              "      <td id=\"T_23a37_row10_col0\" class=\"data row10 col0\" >0.485400</td>\n",
              "    </tr>\n",
              "    <tr>\n",
              "      <th id=\"T_23a37_level0_row11\" class=\"row_heading level0 row11\" >ID</th>\n",
              "      <td id=\"T_23a37_row11_col0\" class=\"data row11 col0\" >0.000000</td>\n",
              "    </tr>\n",
              "    <tr>\n",
              "      <th id=\"T_23a37_level0_row12\" class=\"row_heading level0 row12\" >Bilirubin</th>\n",
              "      <td id=\"T_23a37_row12_col0\" class=\"data row12 col0\" >0.000000</td>\n",
              "    </tr>\n",
              "    <tr>\n",
              "      <th id=\"T_23a37_level0_row13\" class=\"row_heading level0 row13\" >Albumin</th>\n",
              "      <td id=\"T_23a37_row13_col0\" class=\"data row13 col0\" >0.000000</td>\n",
              "    </tr>\n",
              "    <tr>\n",
              "      <th id=\"T_23a37_level0_row14\" class=\"row_heading level0 row14\" >N_Days</th>\n",
              "      <td id=\"T_23a37_row14_col0\" class=\"data row14 col0\" >0.000000</td>\n",
              "    </tr>\n",
              "    <tr>\n",
              "      <th id=\"T_23a37_level0_row15\" class=\"row_heading level0 row15\" >Edema</th>\n",
              "      <td id=\"T_23a37_row15_col0\" class=\"data row15 col0\" >0.000000</td>\n",
              "    </tr>\n",
              "    <tr>\n",
              "      <th id=\"T_23a37_level0_row16\" class=\"row_heading level0 row16\" >Sex</th>\n",
              "      <td id=\"T_23a37_row16_col0\" class=\"data row16 col0\" >0.000000</td>\n",
              "    </tr>\n",
              "    <tr>\n",
              "      <th id=\"T_23a37_level0_row17\" class=\"row_heading level0 row17\" >Age</th>\n",
              "      <td id=\"T_23a37_row17_col0\" class=\"data row17 col0\" >0.000000</td>\n",
              "    </tr>\n",
              "    <tr>\n",
              "      <th id=\"T_23a37_level0_row18\" class=\"row_heading level0 row18\" >Status</th>\n",
              "      <td id=\"T_23a37_row18_col0\" class=\"data row18 col0\" >0.000000</td>\n",
              "    </tr>\n",
              "    <tr>\n",
              "      <th id=\"T_23a37_level0_row19\" class=\"row_heading level0 row19\" >Stage</th>\n",
              "      <td id=\"T_23a37_row19_col0\" class=\"data row19 col0\" >0.000000</td>\n",
              "    </tr>\n",
              "  </tbody>\n",
              "</table>\n"
            ]
          },
          "metadata": {},
          "execution_count": 11
        }
      ]
    },
    {
      "cell_type": "code",
      "source": [
        "categrical_col=df.select_dtypes([\"object\"]).columns\n",
        "numerical_col=df.select_dtypes([\"float64\",\"int64\"]).columns"
      ],
      "metadata": {
        "id": "M3FywpkO2-As"
      },
      "execution_count": null,
      "outputs": []
    },
    {
      "cell_type": "code",
      "source": [
        "for j in categrical_col:\n",
        "  df[j].fillna(df[j].mode().values[0],inplace=True)\n",
        "\n",
        "for i in numerical_col:\n",
        "  df[i].fillna(df[i].median(),inplace=True)\n",
        "\n",
        "df.isnull().sum()"
      ],
      "metadata": {
        "colab": {
          "base_uri": "https://localhost:8080/"
        },
        "id": "crC3f8Gi4WJf",
        "outputId": "d94ea1cb-5a56-46e1-c467-e81d90afd02e"
      },
      "execution_count": null,
      "outputs": [
        {
          "output_type": "execute_result",
          "data": {
            "text/plain": [
              "ID               0\n",
              "N_Days           0\n",
              "Status           0\n",
              "Drug             0\n",
              "Age              0\n",
              "Sex              0\n",
              "Ascites          0\n",
              "Hepatomegaly     0\n",
              "Spiders          0\n",
              "Edema            0\n",
              "Bilirubin        0\n",
              "Cholesterol      0\n",
              "Albumin          0\n",
              "Copper           0\n",
              "Alk_Phos         0\n",
              "SGOT             0\n",
              "Tryglicerides    0\n",
              "Platelets        0\n",
              "Prothrombin      0\n",
              "Stage            0\n",
              "dtype: int64"
            ]
          },
          "metadata": {},
          "execution_count": 13
        }
      ]
    },
    {
      "cell_type": "code",
      "source": [
        "# df.drop(df[df['Stage'].isnull()].index,inplace=True)\n",
        "# already done"
      ],
      "metadata": {
        "id": "YpxEH9JM5NAL"
      },
      "execution_count": null,
      "outputs": []
    },
    {
      "cell_type": "code",
      "source": [
        "df.shape"
      ],
      "metadata": {
        "colab": {
          "base_uri": "https://localhost:8080/"
        },
        "id": "32nVpZVB5Xge",
        "outputId": "c58514e0-527f-44b6-9638-c689a8f65ac3"
      },
      "execution_count": null,
      "outputs": [
        {
          "output_type": "execute_result",
          "data": {
            "text/plain": [
              "(412, 20)"
            ]
          },
          "metadata": {},
          "execution_count": 14
        }
      ]
    },
    {
      "cell_type": "code",
      "source": [
        "df.duplicated().value_counts()\n",
        "#no duplicates are there"
      ],
      "metadata": {
        "colab": {
          "base_uri": "https://localhost:8080/"
        },
        "id": "P54YpGw_nS5c",
        "outputId": "2f1285d6-53be-4f6f-8470-be8269d4a074"
      },
      "execution_count": null,
      "outputs": [
        {
          "output_type": "execute_result",
          "data": {
            "text/plain": [
              "False    412\n",
              "dtype: int64"
            ]
          },
          "metadata": {},
          "execution_count": 15
        }
      ]
    },
    {
      "cell_type": "code",
      "source": [
        "df.describe(include='object')"
      ],
      "metadata": {
        "colab": {
          "base_uri": "https://localhost:8080/",
          "height": 174
        },
        "id": "22E-6g1fndrn",
        "outputId": "ecf6f13e-0ab4-49ef-d05f-230cc44420a5"
      },
      "execution_count": null,
      "outputs": [
        {
          "output_type": "execute_result",
          "data": {
            "text/plain": [
              "       Status             Drug  Sex Ascites Hepatomegaly Spiders Edema\n",
              "count     412              412  412     412          412     412   412\n",
              "unique      3                2    2       2            2       2     3\n",
              "top         C  D-penicillamine    F       N            Y       N     N\n",
              "freq      230              258  368     388          260     322   348"
            ],
            "text/html": [
              "\n",
              "  <div id=\"df-9c885db2-6e2e-45a5-89ba-cdaddcaedd88\">\n",
              "    <div class=\"colab-df-container\">\n",
              "      <div>\n",
              "<style scoped>\n",
              "    .dataframe tbody tr th:only-of-type {\n",
              "        vertical-align: middle;\n",
              "    }\n",
              "\n",
              "    .dataframe tbody tr th {\n",
              "        vertical-align: top;\n",
              "    }\n",
              "\n",
              "    .dataframe thead th {\n",
              "        text-align: right;\n",
              "    }\n",
              "</style>\n",
              "<table border=\"1\" class=\"dataframe\">\n",
              "  <thead>\n",
              "    <tr style=\"text-align: right;\">\n",
              "      <th></th>\n",
              "      <th>Status</th>\n",
              "      <th>Drug</th>\n",
              "      <th>Sex</th>\n",
              "      <th>Ascites</th>\n",
              "      <th>Hepatomegaly</th>\n",
              "      <th>Spiders</th>\n",
              "      <th>Edema</th>\n",
              "    </tr>\n",
              "  </thead>\n",
              "  <tbody>\n",
              "    <tr>\n",
              "      <th>count</th>\n",
              "      <td>412</td>\n",
              "      <td>412</td>\n",
              "      <td>412</td>\n",
              "      <td>412</td>\n",
              "      <td>412</td>\n",
              "      <td>412</td>\n",
              "      <td>412</td>\n",
              "    </tr>\n",
              "    <tr>\n",
              "      <th>unique</th>\n",
              "      <td>3</td>\n",
              "      <td>2</td>\n",
              "      <td>2</td>\n",
              "      <td>2</td>\n",
              "      <td>2</td>\n",
              "      <td>2</td>\n",
              "      <td>3</td>\n",
              "    </tr>\n",
              "    <tr>\n",
              "      <th>top</th>\n",
              "      <td>C</td>\n",
              "      <td>D-penicillamine</td>\n",
              "      <td>F</td>\n",
              "      <td>N</td>\n",
              "      <td>Y</td>\n",
              "      <td>N</td>\n",
              "      <td>N</td>\n",
              "    </tr>\n",
              "    <tr>\n",
              "      <th>freq</th>\n",
              "      <td>230</td>\n",
              "      <td>258</td>\n",
              "      <td>368</td>\n",
              "      <td>388</td>\n",
              "      <td>260</td>\n",
              "      <td>322</td>\n",
              "      <td>348</td>\n",
              "    </tr>\n",
              "  </tbody>\n",
              "</table>\n",
              "</div>\n",
              "      <button class=\"colab-df-convert\" onclick=\"convertToInteractive('df-9c885db2-6e2e-45a5-89ba-cdaddcaedd88')\"\n",
              "              title=\"Convert this dataframe to an interactive table.\"\n",
              "              style=\"display:none;\">\n",
              "        \n",
              "  <svg xmlns=\"http://www.w3.org/2000/svg\" height=\"24px\"viewBox=\"0 0 24 24\"\n",
              "       width=\"24px\">\n",
              "    <path d=\"M0 0h24v24H0V0z\" fill=\"none\"/>\n",
              "    <path d=\"M18.56 5.44l.94 2.06.94-2.06 2.06-.94-2.06-.94-.94-2.06-.94 2.06-2.06.94zm-11 1L8.5 8.5l.94-2.06 2.06-.94-2.06-.94L8.5 2.5l-.94 2.06-2.06.94zm10 10l.94 2.06.94-2.06 2.06-.94-2.06-.94-.94-2.06-.94 2.06-2.06.94z\"/><path d=\"M17.41 7.96l-1.37-1.37c-.4-.4-.92-.59-1.43-.59-.52 0-1.04.2-1.43.59L10.3 9.45l-7.72 7.72c-.78.78-.78 2.05 0 2.83L4 21.41c.39.39.9.59 1.41.59.51 0 1.02-.2 1.41-.59l7.78-7.78 2.81-2.81c.8-.78.8-2.07 0-2.86zM5.41 20L4 18.59l7.72-7.72 1.47 1.35L5.41 20z\"/>\n",
              "  </svg>\n",
              "      </button>\n",
              "      \n",
              "  <style>\n",
              "    .colab-df-container {\n",
              "      display:flex;\n",
              "      flex-wrap:wrap;\n",
              "      gap: 12px;\n",
              "    }\n",
              "\n",
              "    .colab-df-convert {\n",
              "      background-color: #E8F0FE;\n",
              "      border: none;\n",
              "      border-radius: 50%;\n",
              "      cursor: pointer;\n",
              "      display: none;\n",
              "      fill: #1967D2;\n",
              "      height: 32px;\n",
              "      padding: 0 0 0 0;\n",
              "      width: 32px;\n",
              "    }\n",
              "\n",
              "    .colab-df-convert:hover {\n",
              "      background-color: #E2EBFA;\n",
              "      box-shadow: 0px 1px 2px rgba(60, 64, 67, 0.3), 0px 1px 3px 1px rgba(60, 64, 67, 0.15);\n",
              "      fill: #174EA6;\n",
              "    }\n",
              "\n",
              "    [theme=dark] .colab-df-convert {\n",
              "      background-color: #3B4455;\n",
              "      fill: #D2E3FC;\n",
              "    }\n",
              "\n",
              "    [theme=dark] .colab-df-convert:hover {\n",
              "      background-color: #434B5C;\n",
              "      box-shadow: 0px 1px 3px 1px rgba(0, 0, 0, 0.15);\n",
              "      filter: drop-shadow(0px 1px 2px rgba(0, 0, 0, 0.3));\n",
              "      fill: #FFFFFF;\n",
              "    }\n",
              "  </style>\n",
              "\n",
              "      <script>\n",
              "        const buttonEl =\n",
              "          document.querySelector('#df-9c885db2-6e2e-45a5-89ba-cdaddcaedd88 button.colab-df-convert');\n",
              "        buttonEl.style.display =\n",
              "          google.colab.kernel.accessAllowed ? 'block' : 'none';\n",
              "\n",
              "        async function convertToInteractive(key) {\n",
              "          const element = document.querySelector('#df-9c885db2-6e2e-45a5-89ba-cdaddcaedd88');\n",
              "          const dataTable =\n",
              "            await google.colab.kernel.invokeFunction('convertToInteractive',\n",
              "                                                     [key], {});\n",
              "          if (!dataTable) return;\n",
              "\n",
              "          const docLinkHtml = 'Like what you see? Visit the ' +\n",
              "            '<a target=\"_blank\" href=https://colab.research.google.com/notebooks/data_table.ipynb>data table notebook</a>'\n",
              "            + ' to learn more about interactive tables.';\n",
              "          element.innerHTML = '';\n",
              "          dataTable['output_type'] = 'display_data';\n",
              "          await google.colab.output.renderOutput(dataTable, element);\n",
              "          const docLink = document.createElement('div');\n",
              "          docLink.innerHTML = docLinkHtml;\n",
              "          element.appendChild(docLink);\n",
              "        }\n",
              "      </script>\n",
              "    </div>\n",
              "  </div>\n",
              "  "
            ]
          },
          "metadata": {},
          "execution_count": 16
        }
      ]
    },
    {
      "cell_type": "code",
      "source": [
        "df.describe(include='int64').style.background_gradient(cmap='viridis')"
      ],
      "metadata": {
        "colab": {
          "base_uri": "https://localhost:8080/",
          "height": 300
        },
        "id": "G8DVBxMZnrhi",
        "outputId": "29fb61c7-2cfc-47fe-c448-0c0b1f394507"
      },
      "execution_count": null,
      "outputs": [
        {
          "output_type": "execute_result",
          "data": {
            "text/plain": [
              "<pandas.io.formats.style.Styler at 0x7f9cd22c2b20>"
            ],
            "text/html": [
              "<style type=\"text/css\">\n",
              "#T_3a57c_row0_col0 {\n",
              "  background-color: #f6e620;\n",
              "  color: #000000;\n",
              "}\n",
              "#T_3a57c_row0_col1 {\n",
              "  background-color: #481c6e;\n",
              "  color: #f1f1f1;\n",
              "}\n",
              "#T_3a57c_row0_col2, #T_3a57c_row3_col0, #T_3a57c_row3_col1 {\n",
              "  background-color: #440154;\n",
              "  color: #f1f1f1;\n",
              "}\n",
              "#T_3a57c_row1_col0, #T_3a57c_row5_col0 {\n",
              "  background-color: #218f8d;\n",
              "  color: #f1f1f1;\n",
              "}\n",
              "#T_3a57c_row1_col1 {\n",
              "  background-color: #2a778e;\n",
              "  color: #f1f1f1;\n",
              "}\n",
              "#T_3a57c_row1_col2 {\n",
              "  background-color: #2cb17e;\n",
              "  color: #f1f1f1;\n",
              "}\n",
              "#T_3a57c_row2_col0 {\n",
              "  background-color: #365c8d;\n",
              "  color: #f1f1f1;\n",
              "}\n",
              "#T_3a57c_row2_col1 {\n",
              "  background-color: #3e4a89;\n",
              "  color: #f1f1f1;\n",
              "}\n",
              "#T_3a57c_row2_col2 {\n",
              "  background-color: #472a7a;\n",
              "  color: #f1f1f1;\n",
              "}\n",
              "#T_3a57c_row3_col2 {\n",
              "  background-color: #31668e;\n",
              "  color: #f1f1f1;\n",
              "}\n",
              "#T_3a57c_row4_col0 {\n",
              "  background-color: #3b518b;\n",
              "  color: #f1f1f1;\n",
              "}\n",
              "#T_3a57c_row4_col1 {\n",
              "  background-color: #3e4989;\n",
              "  color: #f1f1f1;\n",
              "}\n",
              "#T_3a57c_row4_col2 {\n",
              "  background-color: #1f998a;\n",
              "  color: #f1f1f1;\n",
              "}\n",
              "#T_3a57c_row5_col1 {\n",
              "  background-color: #2e6d8e;\n",
              "  color: #f1f1f1;\n",
              "}\n",
              "#T_3a57c_row5_col2 {\n",
              "  background-color: #2eb37c;\n",
              "  color: #f1f1f1;\n",
              "}\n",
              "#T_3a57c_row6_col0 {\n",
              "  background-color: #58c765;\n",
              "  color: #000000;\n",
              "}\n",
              "#T_3a57c_row6_col1 {\n",
              "  background-color: #1f9a8a;\n",
              "  color: #f1f1f1;\n",
              "}\n",
              "#T_3a57c_row6_col2 {\n",
              "  background-color: #56c667;\n",
              "  color: #000000;\n",
              "}\n",
              "#T_3a57c_row7_col0, #T_3a57c_row7_col1, #T_3a57c_row7_col2 {\n",
              "  background-color: #fde725;\n",
              "  color: #000000;\n",
              "}\n",
              "</style>\n",
              "<table id=\"T_3a57c_\" class=\"dataframe\">\n",
              "  <thead>\n",
              "    <tr>\n",
              "      <th class=\"blank level0\" >&nbsp;</th>\n",
              "      <th class=\"col_heading level0 col0\" >ID</th>\n",
              "      <th class=\"col_heading level0 col1\" >N_Days</th>\n",
              "      <th class=\"col_heading level0 col2\" >Age</th>\n",
              "    </tr>\n",
              "  </thead>\n",
              "  <tbody>\n",
              "    <tr>\n",
              "      <th id=\"T_3a57c_level0_row0\" class=\"row_heading level0 row0\" >count</th>\n",
              "      <td id=\"T_3a57c_row0_col0\" class=\"data row0 col0\" >412.000000</td>\n",
              "      <td id=\"T_3a57c_row0_col1\" class=\"data row0 col1\" >412.000000</td>\n",
              "      <td id=\"T_3a57c_row0_col2\" class=\"data row0 col2\" >412.000000</td>\n",
              "    </tr>\n",
              "    <tr>\n",
              "      <th id=\"T_3a57c_level0_row1\" class=\"row_heading level0 row1\" >mean</th>\n",
              "      <td id=\"T_3a57c_row1_col0\" class=\"data row1 col0\" >207.837379</td>\n",
              "      <td id=\"T_3a57c_row1_col1\" class=\"data row1 col1\" >1916.837379</td>\n",
              "      <td id=\"T_3a57c_row1_col2\" class=\"data row1 col2\" >18498.286408</td>\n",
              "    </tr>\n",
              "    <tr>\n",
              "      <th id=\"T_3a57c_level0_row2\" class=\"row_heading level0 row2\" >std</th>\n",
              "      <td id=\"T_3a57c_row2_col0\" class=\"data row2 col0\" >120.888581</td>\n",
              "      <td id=\"T_3a57c_row2_col1\" class=\"data row2 col1\" >1099.941147</td>\n",
              "      <td id=\"T_3a57c_row2_col2\" class=\"data row2 col2\" >3823.705746</td>\n",
              "    </tr>\n",
              "    <tr>\n",
              "      <th id=\"T_3a57c_level0_row3\" class=\"row_heading level0 row3\" >min</th>\n",
              "      <td id=\"T_3a57c_row3_col0\" class=\"data row3 col0\" >1.000000</td>\n",
              "      <td id=\"T_3a57c_row3_col1\" class=\"data row3 col1\" >41.000000</td>\n",
              "      <td id=\"T_3a57c_row3_col2\" class=\"data row3 col2\" >9598.000000</td>\n",
              "    </tr>\n",
              "    <tr>\n",
              "      <th id=\"T_3a57c_level0_row4\" class=\"row_heading level0 row4\" >25%</th>\n",
              "      <td id=\"T_3a57c_row4_col0\" class=\"data row4 col0\" >103.750000</td>\n",
              "      <td id=\"T_3a57c_row4_col1\" class=\"data row4 col1\" >1094.250000</td>\n",
              "      <td id=\"T_3a57c_row4_col2\" class=\"data row4 col2\" >15609.250000</td>\n",
              "    </tr>\n",
              "    <tr>\n",
              "      <th id=\"T_3a57c_level0_row5\" class=\"row_heading level0 row5\" >50%</th>\n",
              "      <td id=\"T_3a57c_row5_col0\" class=\"data row5 col0\" >206.500000</td>\n",
              "      <td id=\"T_3a57c_row5_col1\" class=\"data row5 col1\" >1713.500000</td>\n",
              "      <td id=\"T_3a57c_row5_col2\" class=\"data row5 col2\" >18628.000000</td>\n",
              "    </tr>\n",
              "    <tr>\n",
              "      <th id=\"T_3a57c_level0_row6\" class=\"row_heading level0 row6\" >75%</th>\n",
              "      <td id=\"T_3a57c_row6_col0\" class=\"data row6 col0\" >309.250000</td>\n",
              "      <td id=\"T_3a57c_row6_col1\" class=\"data row6 col1\" >2610.500000</td>\n",
              "      <td id=\"T_3a57c_row6_col2\" class=\"data row6 col2\" >21200.500000</td>\n",
              "    </tr>\n",
              "    <tr>\n",
              "      <th id=\"T_3a57c_level0_row7\" class=\"row_heading level0 row7\" >max</th>\n",
              "      <td id=\"T_3a57c_row7_col0\" class=\"data row7 col0\" >418.000000</td>\n",
              "      <td id=\"T_3a57c_row7_col1\" class=\"data row7 col1\" >4795.000000</td>\n",
              "      <td id=\"T_3a57c_row7_col2\" class=\"data row7 col2\" >28650.000000</td>\n",
              "    </tr>\n",
              "  </tbody>\n",
              "</table>\n"
            ]
          },
          "metadata": {},
          "execution_count": 17
        }
      ]
    },
    {
      "cell_type": "code",
      "source": [
        "df.describe(include='float64').style.background_gradient(cmap='viridis')"
      ],
      "metadata": {
        "colab": {
          "base_uri": "https://localhost:8080/",
          "height": 320
        },
        "id": "V38-nrfdnu7-",
        "outputId": "a2a89946-7f8e-4dd4-c0bb-b6ac28d4ca93"
      },
      "execution_count": null,
      "outputs": [
        {
          "output_type": "execute_result",
          "data": {
            "text/plain": [
              "<pandas.io.formats.style.Styler at 0x7f9cd50ab6d0>"
            ],
            "text/html": [
              "<style type=\"text/css\">\n",
              "#T_1da5b_row0_col0, #T_1da5b_row0_col2, #T_1da5b_row0_col8, #T_1da5b_row0_col9, #T_1da5b_row7_col1, #T_1da5b_row7_col3, #T_1da5b_row7_col4, #T_1da5b_row7_col5, #T_1da5b_row7_col6, #T_1da5b_row7_col7 {\n",
              "  background-color: #fde725;\n",
              "  color: #000000;\n",
              "}\n",
              "#T_1da5b_row0_col1 {\n",
              "  background-color: #433d84;\n",
              "  color: #f1f1f1;\n",
              "}\n",
              "#T_1da5b_row0_col3, #T_1da5b_row0_col7 {\n",
              "  background-color: #42be71;\n",
              "  color: #f1f1f1;\n",
              "}\n",
              "#T_1da5b_row0_col4, #T_1da5b_row2_col0, #T_1da5b_row6_col2, #T_1da5b_row7_col2 {\n",
              "  background-color: #450457;\n",
              "  color: #f1f1f1;\n",
              "}\n",
              "#T_1da5b_row0_col5 {\n",
              "  background-color: #bade28;\n",
              "  color: #000000;\n",
              "}\n",
              "#T_1da5b_row0_col6 {\n",
              "  background-color: #37b878;\n",
              "  color: #f1f1f1;\n",
              "}\n",
              "#T_1da5b_row1_col0, #T_1da5b_row1_col2, #T_1da5b_row1_col9, #T_1da5b_row4_col2, #T_1da5b_row5_col2, #T_1da5b_row5_col9, #T_1da5b_row6_col0, #T_1da5b_row6_col9, #T_1da5b_row7_col9 {\n",
              "  background-color: #440256;\n",
              "  color: #f1f1f1;\n",
              "}\n",
              "#T_1da5b_row1_col1, #T_1da5b_row6_col1 {\n",
              "  background-color: #46307e;\n",
              "  color: #f1f1f1;\n",
              "}\n",
              "#T_1da5b_row1_col3, #T_1da5b_row4_col5 {\n",
              "  background-color: #463480;\n",
              "  color: #f1f1f1;\n",
              "}\n",
              "#T_1da5b_row1_col4 {\n",
              "  background-color: #482878;\n",
              "  color: #f1f1f1;\n",
              "}\n",
              "#T_1da5b_row1_col5 {\n",
              "  background-color: #3e4989;\n",
              "  color: #f1f1f1;\n",
              "}\n",
              "#T_1da5b_row1_col6 {\n",
              "  background-color: #453581;\n",
              "  color: #f1f1f1;\n",
              "}\n",
              "#T_1da5b_row1_col7 {\n",
              "  background-color: #2b758e;\n",
              "  color: #f1f1f1;\n",
              "}\n",
              "#T_1da5b_row1_col8, #T_1da5b_row6_col8 {\n",
              "  background-color: #460a5d;\n",
              "  color: #f1f1f1;\n",
              "}\n",
              "#T_1da5b_row2_col1 {\n",
              "  background-color: #471164;\n",
              "  color: #f1f1f1;\n",
              "}\n",
              "#T_1da5b_row2_col2, #T_1da5b_row2_col8, #T_1da5b_row2_col9, #T_1da5b_row3_col0, #T_1da5b_row3_col1, #T_1da5b_row3_col2, #T_1da5b_row3_col3, #T_1da5b_row3_col4, #T_1da5b_row3_col5, #T_1da5b_row3_col6, #T_1da5b_row3_col7, #T_1da5b_row3_col9, #T_1da5b_row4_col0, #T_1da5b_row4_col9, #T_1da5b_row5_col0 {\n",
              "  background-color: #440154;\n",
              "  color: #f1f1f1;\n",
              "}\n",
              "#T_1da5b_row2_col3 {\n",
              "  background-color: #472c7a;\n",
              "  color: #f1f1f1;\n",
              "}\n",
              "#T_1da5b_row2_col4, #T_1da5b_row5_col3 {\n",
              "  background-color: #472a7a;\n",
              "  color: #f1f1f1;\n",
              "}\n",
              "#T_1da5b_row2_col5, #T_1da5b_row4_col4 {\n",
              "  background-color: #481467;\n",
              "  color: #f1f1f1;\n",
              "}\n",
              "#T_1da5b_row2_col6 {\n",
              "  background-color: #470e61;\n",
              "  color: #f1f1f1;\n",
              "}\n",
              "#T_1da5b_row2_col7 {\n",
              "  background-color: #48186a;\n",
              "  color: #f1f1f1;\n",
              "}\n",
              "#T_1da5b_row3_col8 {\n",
              "  background-color: #46075a;\n",
              "  color: #f1f1f1;\n",
              "}\n",
              "#T_1da5b_row4_col1 {\n",
              "  background-color: #482173;\n",
              "  color: #f1f1f1;\n",
              "}\n",
              "#T_1da5b_row4_col3 {\n",
              "  background-color: #481d6f;\n",
              "  color: #f1f1f1;\n",
              "}\n",
              "#T_1da5b_row4_col6 {\n",
              "  background-color: #482677;\n",
              "  color: #f1f1f1;\n",
              "}\n",
              "#T_1da5b_row4_col7, #T_1da5b_row6_col5 {\n",
              "  background-color: #3a538b;\n",
              "  color: #f1f1f1;\n",
              "}\n",
              "#T_1da5b_row4_col8, #T_1da5b_row5_col8 {\n",
              "  background-color: #46085c;\n",
              "  color: #f1f1f1;\n",
              "}\n",
              "#T_1da5b_row5_col1 {\n",
              "  background-color: #482979;\n",
              "  color: #f1f1f1;\n",
              "}\n",
              "#T_1da5b_row5_col4 {\n",
              "  background-color: #481b6d;\n",
              "  color: #f1f1f1;\n",
              "}\n",
              "#T_1da5b_row5_col5 {\n",
              "  background-color: #404588;\n",
              "  color: #f1f1f1;\n",
              "}\n",
              "#T_1da5b_row5_col6 {\n",
              "  background-color: #472e7c;\n",
              "  color: #f1f1f1;\n",
              "}\n",
              "#T_1da5b_row5_col7 {\n",
              "  background-color: #2c718e;\n",
              "  color: #f1f1f1;\n",
              "}\n",
              "#T_1da5b_row6_col3 {\n",
              "  background-color: #443983;\n",
              "  color: #f1f1f1;\n",
              "}\n",
              "#T_1da5b_row6_col4 {\n",
              "  background-color: #482576;\n",
              "  color: #f1f1f1;\n",
              "}\n",
              "#T_1da5b_row6_col6 {\n",
              "  background-color: #443a83;\n",
              "  color: #f1f1f1;\n",
              "}\n",
              "#T_1da5b_row6_col7 {\n",
              "  background-color: #20928c;\n",
              "  color: #f1f1f1;\n",
              "}\n",
              "#T_1da5b_row7_col0 {\n",
              "  background-color: #481a6c;\n",
              "  color: #f1f1f1;\n",
              "}\n",
              "#T_1da5b_row7_col8 {\n",
              "  background-color: #471063;\n",
              "  color: #f1f1f1;\n",
              "}\n",
              "</style>\n",
              "<table id=\"T_1da5b_\" class=\"dataframe\">\n",
              "  <thead>\n",
              "    <tr>\n",
              "      <th class=\"blank level0\" >&nbsp;</th>\n",
              "      <th class=\"col_heading level0 col0\" >Bilirubin</th>\n",
              "      <th class=\"col_heading level0 col1\" >Cholesterol</th>\n",
              "      <th class=\"col_heading level0 col2\" >Albumin</th>\n",
              "      <th class=\"col_heading level0 col3\" >Copper</th>\n",
              "      <th class=\"col_heading level0 col4\" >Alk_Phos</th>\n",
              "      <th class=\"col_heading level0 col5\" >SGOT</th>\n",
              "      <th class=\"col_heading level0 col6\" >Tryglicerides</th>\n",
              "      <th class=\"col_heading level0 col7\" >Platelets</th>\n",
              "      <th class=\"col_heading level0 col8\" >Prothrombin</th>\n",
              "      <th class=\"col_heading level0 col9\" >Stage</th>\n",
              "    </tr>\n",
              "  </thead>\n",
              "  <tbody>\n",
              "    <tr>\n",
              "      <th id=\"T_1da5b_level0_row0\" class=\"row_heading level0 row0\" >count</th>\n",
              "      <td id=\"T_1da5b_row0_col0\" class=\"data row0 col0\" >412.000000</td>\n",
              "      <td id=\"T_1da5b_row0_col1\" class=\"data row0 col1\" >412.000000</td>\n",
              "      <td id=\"T_1da5b_row0_col2\" class=\"data row0 col2\" >412.000000</td>\n",
              "      <td id=\"T_1da5b_row0_col3\" class=\"data row0 col3\" >412.000000</td>\n",
              "      <td id=\"T_1da5b_row0_col4\" class=\"data row0 col4\" >412.000000</td>\n",
              "      <td id=\"T_1da5b_row0_col5\" class=\"data row0 col5\" >412.000000</td>\n",
              "      <td id=\"T_1da5b_row0_col6\" class=\"data row0 col6\" >412.000000</td>\n",
              "      <td id=\"T_1da5b_row0_col7\" class=\"data row0 col7\" >412.000000</td>\n",
              "      <td id=\"T_1da5b_row0_col8\" class=\"data row0 col8\" >412.000000</td>\n",
              "      <td id=\"T_1da5b_row0_col9\" class=\"data row0 col9\" >412.000000</td>\n",
              "    </tr>\n",
              "    <tr>\n",
              "      <th id=\"T_1da5b_level0_row1\" class=\"row_heading level0 row1\" >mean</th>\n",
              "      <td id=\"T_1da5b_row1_col0\" class=\"data row1 col0\" >3.227670</td>\n",
              "      <td id=\"T_1da5b_row1_col1\" class=\"data row1 col1\" >350.866505</td>\n",
              "      <td id=\"T_1da5b_row1_col2\" class=\"data row1 col2\" >3.500073</td>\n",
              "      <td id=\"T_1da5b_row1_col3\" class=\"data row1 col3\" >91.546117</td>\n",
              "      <td id=\"T_1da5b_row1_col4\" class=\"data row1 col4\" >1807.011165</td>\n",
              "      <td id=\"T_1da5b_row1_col5\" class=\"data row1 col5\" >120.649466</td>\n",
              "      <td id=\"T_1da5b_row1_col6\" class=\"data row1 col6\" >119.432039</td>\n",
              "      <td id=\"T_1da5b_row1_col7\" class=\"data row1 col7\" >255.912621</td>\n",
              "      <td id=\"T_1da5b_row1_col8\" class=\"data row1 col8\" >10.732767</td>\n",
              "      <td id=\"T_1da5b_row1_col9\" class=\"data row1 col9\" >3.024272</td>\n",
              "    </tr>\n",
              "    <tr>\n",
              "      <th id=\"T_1da5b_level0_row2\" class=\"row_heading level0 row2\" >std</th>\n",
              "      <td id=\"T_1da5b_row2_col0\" class=\"data row2 col0\" >4.429421</td>\n",
              "      <td id=\"T_1da5b_row2_col1\" class=\"data row2 col1\" >194.465151</td>\n",
              "      <td id=\"T_1da5b_row2_col2\" class=\"data row2 col2\" >0.423948</td>\n",
              "      <td id=\"T_1da5b_row2_col3\" class=\"data row2 col3\" >74.994211</td>\n",
              "      <td id=\"T_1da5b_row2_col4\" class=\"data row2 col4\" >1887.615128</td>\n",
              "      <td id=\"T_1da5b_row2_col5\" class=\"data row2 col5\" >49.436930</td>\n",
              "      <td id=\"T_1da5b_row2_col6\" class=\"data row2 col6\" >54.426519</td>\n",
              "      <td id=\"T_1da5b_row2_col7\" class=\"data row2 col7\" >94.467529</td>\n",
              "      <td id=\"T_1da5b_row2_col8\" class=\"data row2 col8\" >1.024098</td>\n",
              "      <td id=\"T_1da5b_row2_col9\" class=\"data row2 col9\" >0.882042</td>\n",
              "    </tr>\n",
              "    <tr>\n",
              "      <th id=\"T_1da5b_level0_row3\" class=\"row_heading level0 row3\" >min</th>\n",
              "      <td id=\"T_1da5b_row3_col0\" class=\"data row3 col0\" >0.300000</td>\n",
              "      <td id=\"T_1da5b_row3_col1\" class=\"data row3 col1\" >120.000000</td>\n",
              "      <td id=\"T_1da5b_row3_col2\" class=\"data row3 col2\" >1.960000</td>\n",
              "      <td id=\"T_1da5b_row3_col3\" class=\"data row3 col3\" >4.000000</td>\n",
              "      <td id=\"T_1da5b_row3_col4\" class=\"data row3 col4\" >289.000000</td>\n",
              "      <td id=\"T_1da5b_row3_col5\" class=\"data row3 col5\" >26.350000</td>\n",
              "      <td id=\"T_1da5b_row3_col6\" class=\"data row3 col6\" >33.000000</td>\n",
              "      <td id=\"T_1da5b_row3_col7\" class=\"data row3 col7\" >62.000000</td>\n",
              "      <td id=\"T_1da5b_row3_col8\" class=\"data row3 col8\" >9.000000</td>\n",
              "      <td id=\"T_1da5b_row3_col9\" class=\"data row3 col9\" >1.000000</td>\n",
              "    </tr>\n",
              "    <tr>\n",
              "      <th id=\"T_1da5b_level0_row4\" class=\"row_heading level0 row4\" >25%</th>\n",
              "      <td id=\"T_1da5b_row4_col0\" class=\"data row4 col0\" >0.800000</td>\n",
              "      <td id=\"T_1da5b_row4_col1\" class=\"data row4 col1\" >270.500000</td>\n",
              "      <td id=\"T_1da5b_row4_col2\" class=\"data row4 col2\" >3.247500</td>\n",
              "      <td id=\"T_1da5b_row4_col3\" class=\"data row4 col3\" >51.000000</td>\n",
              "      <td id=\"T_1da5b_row4_col4\" class=\"data row4 col4\" >1009.000000</td>\n",
              "      <td id=\"T_1da5b_row4_col5\" class=\"data row4 col5\" >90.725000</td>\n",
              "      <td id=\"T_1da5b_row4_col6\" class=\"data row4 col6\" >94.000000</td>\n",
              "      <td id=\"T_1da5b_row4_col7\" class=\"data row4 col7\" >190.000000</td>\n",
              "      <td id=\"T_1da5b_row4_col8\" class=\"data row4 col8\" >10.000000</td>\n",
              "      <td id=\"T_1da5b_row4_col9\" class=\"data row4 col9\" >2.000000</td>\n",
              "    </tr>\n",
              "    <tr>\n",
              "      <th id=\"T_1da5b_level0_row5\" class=\"row_heading level0 row5\" >50%</th>\n",
              "      <td id=\"T_1da5b_row5_col0\" class=\"data row5 col0\" >1.400000</td>\n",
              "      <td id=\"T_1da5b_row5_col1\" class=\"data row5 col1\" >309.500000</td>\n",
              "      <td id=\"T_1da5b_row5_col2\" class=\"data row5 col2\" >3.530000</td>\n",
              "      <td id=\"T_1da5b_row5_col3\" class=\"data row5 col3\" >73.000000</td>\n",
              "      <td id=\"T_1da5b_row5_col4\" class=\"data row5 col4\" >1259.000000</td>\n",
              "      <td id=\"T_1da5b_row5_col5\" class=\"data row5 col5\" >114.700000</td>\n",
              "      <td id=\"T_1da5b_row5_col6\" class=\"data row5 col6\" >108.000000</td>\n",
              "      <td id=\"T_1da5b_row5_col7\" class=\"data row5 col7\" >249.000000</td>\n",
              "      <td id=\"T_1da5b_row5_col8\" class=\"data row5 col8\" >10.600000</td>\n",
              "      <td id=\"T_1da5b_row5_col9\" class=\"data row5 col9\" >3.000000</td>\n",
              "    </tr>\n",
              "    <tr>\n",
              "      <th id=\"T_1da5b_level0_row6\" class=\"row_heading level0 row6\" >75%</th>\n",
              "      <td id=\"T_1da5b_row6_col0\" class=\"data row6 col0\" >3.400000</td>\n",
              "      <td id=\"T_1da5b_row6_col1\" class=\"data row6 col1\" >350.750000</td>\n",
              "      <td id=\"T_1da5b_row6_col2\" class=\"data row6 col2\" >3.782500</td>\n",
              "      <td id=\"T_1da5b_row6_col3\" class=\"data row6 col3\" >102.000000</td>\n",
              "      <td id=\"T_1da5b_row6_col4\" class=\"data row6 col4\" >1716.500000</td>\n",
              "      <td id=\"T_1da5b_row6_col5\" class=\"data row6 col5\" >136.485000</td>\n",
              "      <td id=\"T_1da5b_row6_col6\" class=\"data row6 col6\" >128.500000</td>\n",
              "      <td id=\"T_1da5b_row6_col7\" class=\"data row6 col7\" >314.500000</td>\n",
              "      <td id=\"T_1da5b_row6_col8\" class=\"data row6 col8\" >11.100000</td>\n",
              "      <td id=\"T_1da5b_row6_col9\" class=\"data row6 col9\" >4.000000</td>\n",
              "    </tr>\n",
              "    <tr>\n",
              "      <th id=\"T_1da5b_level0_row7\" class=\"row_heading level0 row7\" >max</th>\n",
              "      <td id=\"T_1da5b_row7_col0\" class=\"data row7 col0\" >28.000000</td>\n",
              "      <td id=\"T_1da5b_row7_col1\" class=\"data row7 col1\" >1775.000000</td>\n",
              "      <td id=\"T_1da5b_row7_col2\" class=\"data row7 col2\" >4.640000</td>\n",
              "      <td id=\"T_1da5b_row7_col3\" class=\"data row7 col3\" >588.000000</td>\n",
              "      <td id=\"T_1da5b_row7_col4\" class=\"data row7 col4\" >13862.400000</td>\n",
              "      <td id=\"T_1da5b_row7_col5\" class=\"data row7 col5\" >457.250000</td>\n",
              "      <td id=\"T_1da5b_row7_col6\" class=\"data row7 col6\" >598.000000</td>\n",
              "      <td id=\"T_1da5b_row7_col7\" class=\"data row7 col7\" >563.000000</td>\n",
              "      <td id=\"T_1da5b_row7_col8\" class=\"data row7 col8\" >18.000000</td>\n",
              "      <td id=\"T_1da5b_row7_col9\" class=\"data row7 col9\" >4.000000</td>\n",
              "    </tr>\n",
              "  </tbody>\n",
              "</table>\n"
            ]
          },
          "metadata": {},
          "execution_count": 18
        }
      ]
    },
    {
      "cell_type": "markdown",
      "source": [
        "we can convert the stage data into either 0 or 1 if it is in stage 1,2,3 it is convertible and else it is non-convertible i.e., 1."
      ],
      "metadata": {
        "id": "ZBnadW0jo401"
      }
    },
    {
      "cell_type": "code",
      "source": [
        "df"
      ],
      "metadata": {
        "colab": {
          "base_uri": "https://localhost:8080/",
          "height": 643
        },
        "id": "9FJ0HeAU11Sb",
        "outputId": "5a1921cb-0bdf-4f02-8ed8-b021e0c4f752"
      },
      "execution_count": null,
      "outputs": [
        {
          "output_type": "execute_result",
          "data": {
            "text/plain": [
              "      ID  N_Days Status             Drug    Age Sex Ascites Hepatomegaly  \\\n",
              "0      1     400      D  D-penicillamine  21464   F       Y            Y   \n",
              "1      2    4500      C  D-penicillamine  20617   F       N            Y   \n",
              "2      3    1012      D  D-penicillamine  25594   M       N            N   \n",
              "3      4    1925      D  D-penicillamine  19994   F       N            Y   \n",
              "4      5    1504     CL          Placebo  13918   F       N            Y   \n",
              "..   ...     ...    ...              ...    ...  ..     ...          ...   \n",
              "413  414     681      D  D-penicillamine  24472   F       N            Y   \n",
              "414  415    1103      C  D-penicillamine  14245   F       N            Y   \n",
              "415  416    1055      C  D-penicillamine  20819   F       N            Y   \n",
              "416  417     691      C  D-penicillamine  21185   F       N            Y   \n",
              "417  418     976      C  D-penicillamine  19358   F       N            Y   \n",
              "\n",
              "    Spiders Edema  Bilirubin  Cholesterol  Albumin  Copper  Alk_Phos    SGOT  \\\n",
              "0         Y     Y       14.5        261.0     2.60   156.0    1718.0  137.95   \n",
              "1         Y     N        1.1        302.0     4.14    54.0    7394.8  113.52   \n",
              "2         N     S        1.4        176.0     3.48   210.0     516.0   96.10   \n",
              "3         Y     S        1.8        244.0     2.54    64.0    6121.8   60.63   \n",
              "4         Y     N        3.4        279.0     3.53   143.0     671.0  113.15   \n",
              "..      ...   ...        ...          ...      ...     ...       ...     ...   \n",
              "413       N     N        1.2        309.5     2.96    73.0    1259.0  114.70   \n",
              "414       N     N        0.9        309.5     3.83    73.0    1259.0  114.70   \n",
              "415       N     N        1.6        309.5     3.42    73.0    1259.0  114.70   \n",
              "416       N     N        0.8        309.5     3.75    73.0    1259.0  114.70   \n",
              "417       N     N        0.7        309.5     3.29    73.0    1259.0  114.70   \n",
              "\n",
              "     Tryglicerides  Platelets  Prothrombin  Stage  \n",
              "0            172.0      190.0         12.2    4.0  \n",
              "1             88.0      221.0         10.6    3.0  \n",
              "2             55.0      151.0         12.0    4.0  \n",
              "3             92.0      183.0         10.3    4.0  \n",
              "4             72.0      136.0         10.9    3.0  \n",
              "..             ...        ...          ...    ...  \n",
              "413          108.0      174.0         10.9    3.0  \n",
              "414          108.0      180.0         11.2    4.0  \n",
              "415          108.0      143.0          9.9    3.0  \n",
              "416          108.0      269.0         10.4    3.0  \n",
              "417          108.0      350.0         10.6    4.0  \n",
              "\n",
              "[412 rows x 20 columns]"
            ],
            "text/html": [
              "\n",
              "  <div id=\"df-362feca8-23f0-40b0-aa6c-30c976c63206\">\n",
              "    <div class=\"colab-df-container\">\n",
              "      <div>\n",
              "<style scoped>\n",
              "    .dataframe tbody tr th:only-of-type {\n",
              "        vertical-align: middle;\n",
              "    }\n",
              "\n",
              "    .dataframe tbody tr th {\n",
              "        vertical-align: top;\n",
              "    }\n",
              "\n",
              "    .dataframe thead th {\n",
              "        text-align: right;\n",
              "    }\n",
              "</style>\n",
              "<table border=\"1\" class=\"dataframe\">\n",
              "  <thead>\n",
              "    <tr style=\"text-align: right;\">\n",
              "      <th></th>\n",
              "      <th>ID</th>\n",
              "      <th>N_Days</th>\n",
              "      <th>Status</th>\n",
              "      <th>Drug</th>\n",
              "      <th>Age</th>\n",
              "      <th>Sex</th>\n",
              "      <th>Ascites</th>\n",
              "      <th>Hepatomegaly</th>\n",
              "      <th>Spiders</th>\n",
              "      <th>Edema</th>\n",
              "      <th>Bilirubin</th>\n",
              "      <th>Cholesterol</th>\n",
              "      <th>Albumin</th>\n",
              "      <th>Copper</th>\n",
              "      <th>Alk_Phos</th>\n",
              "      <th>SGOT</th>\n",
              "      <th>Tryglicerides</th>\n",
              "      <th>Platelets</th>\n",
              "      <th>Prothrombin</th>\n",
              "      <th>Stage</th>\n",
              "    </tr>\n",
              "  </thead>\n",
              "  <tbody>\n",
              "    <tr>\n",
              "      <th>0</th>\n",
              "      <td>1</td>\n",
              "      <td>400</td>\n",
              "      <td>D</td>\n",
              "      <td>D-penicillamine</td>\n",
              "      <td>21464</td>\n",
              "      <td>F</td>\n",
              "      <td>Y</td>\n",
              "      <td>Y</td>\n",
              "      <td>Y</td>\n",
              "      <td>Y</td>\n",
              "      <td>14.5</td>\n",
              "      <td>261.0</td>\n",
              "      <td>2.60</td>\n",
              "      <td>156.0</td>\n",
              "      <td>1718.0</td>\n",
              "      <td>137.95</td>\n",
              "      <td>172.0</td>\n",
              "      <td>190.0</td>\n",
              "      <td>12.2</td>\n",
              "      <td>4.0</td>\n",
              "    </tr>\n",
              "    <tr>\n",
              "      <th>1</th>\n",
              "      <td>2</td>\n",
              "      <td>4500</td>\n",
              "      <td>C</td>\n",
              "      <td>D-penicillamine</td>\n",
              "      <td>20617</td>\n",
              "      <td>F</td>\n",
              "      <td>N</td>\n",
              "      <td>Y</td>\n",
              "      <td>Y</td>\n",
              "      <td>N</td>\n",
              "      <td>1.1</td>\n",
              "      <td>302.0</td>\n",
              "      <td>4.14</td>\n",
              "      <td>54.0</td>\n",
              "      <td>7394.8</td>\n",
              "      <td>113.52</td>\n",
              "      <td>88.0</td>\n",
              "      <td>221.0</td>\n",
              "      <td>10.6</td>\n",
              "      <td>3.0</td>\n",
              "    </tr>\n",
              "    <tr>\n",
              "      <th>2</th>\n",
              "      <td>3</td>\n",
              "      <td>1012</td>\n",
              "      <td>D</td>\n",
              "      <td>D-penicillamine</td>\n",
              "      <td>25594</td>\n",
              "      <td>M</td>\n",
              "      <td>N</td>\n",
              "      <td>N</td>\n",
              "      <td>N</td>\n",
              "      <td>S</td>\n",
              "      <td>1.4</td>\n",
              "      <td>176.0</td>\n",
              "      <td>3.48</td>\n",
              "      <td>210.0</td>\n",
              "      <td>516.0</td>\n",
              "      <td>96.10</td>\n",
              "      <td>55.0</td>\n",
              "      <td>151.0</td>\n",
              "      <td>12.0</td>\n",
              "      <td>4.0</td>\n",
              "    </tr>\n",
              "    <tr>\n",
              "      <th>3</th>\n",
              "      <td>4</td>\n",
              "      <td>1925</td>\n",
              "      <td>D</td>\n",
              "      <td>D-penicillamine</td>\n",
              "      <td>19994</td>\n",
              "      <td>F</td>\n",
              "      <td>N</td>\n",
              "      <td>Y</td>\n",
              "      <td>Y</td>\n",
              "      <td>S</td>\n",
              "      <td>1.8</td>\n",
              "      <td>244.0</td>\n",
              "      <td>2.54</td>\n",
              "      <td>64.0</td>\n",
              "      <td>6121.8</td>\n",
              "      <td>60.63</td>\n",
              "      <td>92.0</td>\n",
              "      <td>183.0</td>\n",
              "      <td>10.3</td>\n",
              "      <td>4.0</td>\n",
              "    </tr>\n",
              "    <tr>\n",
              "      <th>4</th>\n",
              "      <td>5</td>\n",
              "      <td>1504</td>\n",
              "      <td>CL</td>\n",
              "      <td>Placebo</td>\n",
              "      <td>13918</td>\n",
              "      <td>F</td>\n",
              "      <td>N</td>\n",
              "      <td>Y</td>\n",
              "      <td>Y</td>\n",
              "      <td>N</td>\n",
              "      <td>3.4</td>\n",
              "      <td>279.0</td>\n",
              "      <td>3.53</td>\n",
              "      <td>143.0</td>\n",
              "      <td>671.0</td>\n",
              "      <td>113.15</td>\n",
              "      <td>72.0</td>\n",
              "      <td>136.0</td>\n",
              "      <td>10.9</td>\n",
              "      <td>3.0</td>\n",
              "    </tr>\n",
              "    <tr>\n",
              "      <th>...</th>\n",
              "      <td>...</td>\n",
              "      <td>...</td>\n",
              "      <td>...</td>\n",
              "      <td>...</td>\n",
              "      <td>...</td>\n",
              "      <td>...</td>\n",
              "      <td>...</td>\n",
              "      <td>...</td>\n",
              "      <td>...</td>\n",
              "      <td>...</td>\n",
              "      <td>...</td>\n",
              "      <td>...</td>\n",
              "      <td>...</td>\n",
              "      <td>...</td>\n",
              "      <td>...</td>\n",
              "      <td>...</td>\n",
              "      <td>...</td>\n",
              "      <td>...</td>\n",
              "      <td>...</td>\n",
              "      <td>...</td>\n",
              "    </tr>\n",
              "    <tr>\n",
              "      <th>413</th>\n",
              "      <td>414</td>\n",
              "      <td>681</td>\n",
              "      <td>D</td>\n",
              "      <td>D-penicillamine</td>\n",
              "      <td>24472</td>\n",
              "      <td>F</td>\n",
              "      <td>N</td>\n",
              "      <td>Y</td>\n",
              "      <td>N</td>\n",
              "      <td>N</td>\n",
              "      <td>1.2</td>\n",
              "      <td>309.5</td>\n",
              "      <td>2.96</td>\n",
              "      <td>73.0</td>\n",
              "      <td>1259.0</td>\n",
              "      <td>114.70</td>\n",
              "      <td>108.0</td>\n",
              "      <td>174.0</td>\n",
              "      <td>10.9</td>\n",
              "      <td>3.0</td>\n",
              "    </tr>\n",
              "    <tr>\n",
              "      <th>414</th>\n",
              "      <td>415</td>\n",
              "      <td>1103</td>\n",
              "      <td>C</td>\n",
              "      <td>D-penicillamine</td>\n",
              "      <td>14245</td>\n",
              "      <td>F</td>\n",
              "      <td>N</td>\n",
              "      <td>Y</td>\n",
              "      <td>N</td>\n",
              "      <td>N</td>\n",
              "      <td>0.9</td>\n",
              "      <td>309.5</td>\n",
              "      <td>3.83</td>\n",
              "      <td>73.0</td>\n",
              "      <td>1259.0</td>\n",
              "      <td>114.70</td>\n",
              "      <td>108.0</td>\n",
              "      <td>180.0</td>\n",
              "      <td>11.2</td>\n",
              "      <td>4.0</td>\n",
              "    </tr>\n",
              "    <tr>\n",
              "      <th>415</th>\n",
              "      <td>416</td>\n",
              "      <td>1055</td>\n",
              "      <td>C</td>\n",
              "      <td>D-penicillamine</td>\n",
              "      <td>20819</td>\n",
              "      <td>F</td>\n",
              "      <td>N</td>\n",
              "      <td>Y</td>\n",
              "      <td>N</td>\n",
              "      <td>N</td>\n",
              "      <td>1.6</td>\n",
              "      <td>309.5</td>\n",
              "      <td>3.42</td>\n",
              "      <td>73.0</td>\n",
              "      <td>1259.0</td>\n",
              "      <td>114.70</td>\n",
              "      <td>108.0</td>\n",
              "      <td>143.0</td>\n",
              "      <td>9.9</td>\n",
              "      <td>3.0</td>\n",
              "    </tr>\n",
              "    <tr>\n",
              "      <th>416</th>\n",
              "      <td>417</td>\n",
              "      <td>691</td>\n",
              "      <td>C</td>\n",
              "      <td>D-penicillamine</td>\n",
              "      <td>21185</td>\n",
              "      <td>F</td>\n",
              "      <td>N</td>\n",
              "      <td>Y</td>\n",
              "      <td>N</td>\n",
              "      <td>N</td>\n",
              "      <td>0.8</td>\n",
              "      <td>309.5</td>\n",
              "      <td>3.75</td>\n",
              "      <td>73.0</td>\n",
              "      <td>1259.0</td>\n",
              "      <td>114.70</td>\n",
              "      <td>108.0</td>\n",
              "      <td>269.0</td>\n",
              "      <td>10.4</td>\n",
              "      <td>3.0</td>\n",
              "    </tr>\n",
              "    <tr>\n",
              "      <th>417</th>\n",
              "      <td>418</td>\n",
              "      <td>976</td>\n",
              "      <td>C</td>\n",
              "      <td>D-penicillamine</td>\n",
              "      <td>19358</td>\n",
              "      <td>F</td>\n",
              "      <td>N</td>\n",
              "      <td>Y</td>\n",
              "      <td>N</td>\n",
              "      <td>N</td>\n",
              "      <td>0.7</td>\n",
              "      <td>309.5</td>\n",
              "      <td>3.29</td>\n",
              "      <td>73.0</td>\n",
              "      <td>1259.0</td>\n",
              "      <td>114.70</td>\n",
              "      <td>108.0</td>\n",
              "      <td>350.0</td>\n",
              "      <td>10.6</td>\n",
              "      <td>4.0</td>\n",
              "    </tr>\n",
              "  </tbody>\n",
              "</table>\n",
              "<p>412 rows × 20 columns</p>\n",
              "</div>\n",
              "      <button class=\"colab-df-convert\" onclick=\"convertToInteractive('df-362feca8-23f0-40b0-aa6c-30c976c63206')\"\n",
              "              title=\"Convert this dataframe to an interactive table.\"\n",
              "              style=\"display:none;\">\n",
              "        \n",
              "  <svg xmlns=\"http://www.w3.org/2000/svg\" height=\"24px\"viewBox=\"0 0 24 24\"\n",
              "       width=\"24px\">\n",
              "    <path d=\"M0 0h24v24H0V0z\" fill=\"none\"/>\n",
              "    <path d=\"M18.56 5.44l.94 2.06.94-2.06 2.06-.94-2.06-.94-.94-2.06-.94 2.06-2.06.94zm-11 1L8.5 8.5l.94-2.06 2.06-.94-2.06-.94L8.5 2.5l-.94 2.06-2.06.94zm10 10l.94 2.06.94-2.06 2.06-.94-2.06-.94-.94-2.06-.94 2.06-2.06.94z\"/><path d=\"M17.41 7.96l-1.37-1.37c-.4-.4-.92-.59-1.43-.59-.52 0-1.04.2-1.43.59L10.3 9.45l-7.72 7.72c-.78.78-.78 2.05 0 2.83L4 21.41c.39.39.9.59 1.41.59.51 0 1.02-.2 1.41-.59l7.78-7.78 2.81-2.81c.8-.78.8-2.07 0-2.86zM5.41 20L4 18.59l7.72-7.72 1.47 1.35L5.41 20z\"/>\n",
              "  </svg>\n",
              "      </button>\n",
              "      \n",
              "  <style>\n",
              "    .colab-df-container {\n",
              "      display:flex;\n",
              "      flex-wrap:wrap;\n",
              "      gap: 12px;\n",
              "    }\n",
              "\n",
              "    .colab-df-convert {\n",
              "      background-color: #E8F0FE;\n",
              "      border: none;\n",
              "      border-radius: 50%;\n",
              "      cursor: pointer;\n",
              "      display: none;\n",
              "      fill: #1967D2;\n",
              "      height: 32px;\n",
              "      padding: 0 0 0 0;\n",
              "      width: 32px;\n",
              "    }\n",
              "\n",
              "    .colab-df-convert:hover {\n",
              "      background-color: #E2EBFA;\n",
              "      box-shadow: 0px 1px 2px rgba(60, 64, 67, 0.3), 0px 1px 3px 1px rgba(60, 64, 67, 0.15);\n",
              "      fill: #174EA6;\n",
              "    }\n",
              "\n",
              "    [theme=dark] .colab-df-convert {\n",
              "      background-color: #3B4455;\n",
              "      fill: #D2E3FC;\n",
              "    }\n",
              "\n",
              "    [theme=dark] .colab-df-convert:hover {\n",
              "      background-color: #434B5C;\n",
              "      box-shadow: 0px 1px 3px 1px rgba(0, 0, 0, 0.15);\n",
              "      filter: drop-shadow(0px 1px 2px rgba(0, 0, 0, 0.3));\n",
              "      fill: #FFFFFF;\n",
              "    }\n",
              "  </style>\n",
              "\n",
              "      <script>\n",
              "        const buttonEl =\n",
              "          document.querySelector('#df-362feca8-23f0-40b0-aa6c-30c976c63206 button.colab-df-convert');\n",
              "        buttonEl.style.display =\n",
              "          google.colab.kernel.accessAllowed ? 'block' : 'none';\n",
              "\n",
              "        async function convertToInteractive(key) {\n",
              "          const element = document.querySelector('#df-362feca8-23f0-40b0-aa6c-30c976c63206');\n",
              "          const dataTable =\n",
              "            await google.colab.kernel.invokeFunction('convertToInteractive',\n",
              "                                                     [key], {});\n",
              "          if (!dataTable) return;\n",
              "\n",
              "          const docLinkHtml = 'Like what you see? Visit the ' +\n",
              "            '<a target=\"_blank\" href=https://colab.research.google.com/notebooks/data_table.ipynb>data table notebook</a>'\n",
              "            + ' to learn more about interactive tables.';\n",
              "          element.innerHTML = '';\n",
              "          dataTable['output_type'] = 'display_data';\n",
              "          await google.colab.output.renderOutput(dataTable, element);\n",
              "          const docLink = document.createElement('div');\n",
              "          docLink.innerHTML = docLinkHtml;\n",
              "          element.appendChild(docLink);\n",
              "        }\n",
              "      </script>\n",
              "    </div>\n",
              "  </div>\n",
              "  "
            ]
          },
          "metadata": {},
          "execution_count": 19
        }
      ]
    },
    {
      "cell_type": "code",
      "source": [
        "# df.loc[df['Stage'].isin([1,2,3]),'Stage']=0\n",
        "# df.loc[df['Stage'].isin([4]),'Stage']=1"
      ],
      "metadata": {
        "id": "43qg8n0knySX"
      },
      "execution_count": null,
      "outputs": []
    },
    {
      "cell_type": "code",
      "source": [
        "df.loc[df['Drug'].isna(),'Drug']=\"No Drug\""
      ],
      "metadata": {
        "id": "V0VRcOJxplzM"
      },
      "execution_count": null,
      "outputs": []
    },
    {
      "cell_type": "markdown",
      "source": [
        "age from days to years"
      ],
      "metadata": {
        "id": "g9tlv28ycN_9"
      }
    },
    {
      "cell_type": "code",
      "source": [
        "df[\"Age\"]=(df[\"Age\"]/365).astype(\"int64\")\n",
        "df[\"Age\"]"
      ],
      "metadata": {
        "id": "T0iaVwITqQMU",
        "colab": {
          "base_uri": "https://localhost:8080/"
        },
        "outputId": "feb480ed-6f13-44e6-b476-a2decc83fd46"
      },
      "execution_count": null,
      "outputs": [
        {
          "output_type": "execute_result",
          "data": {
            "text/plain": [
              "0      58\n",
              "1      56\n",
              "2      70\n",
              "3      54\n",
              "4      38\n",
              "       ..\n",
              "413    67\n",
              "414    39\n",
              "415    57\n",
              "416    58\n",
              "417    53\n",
              "Name: Age, Length: 412, dtype: int64"
            ]
          },
          "metadata": {},
          "execution_count": 23
        }
      ]
    },
    {
      "cell_type": "code",
      "source": [
        "df[\"Stage\"].value_counts()"
      ],
      "metadata": {
        "colab": {
          "base_uri": "https://localhost:8080/"
        },
        "id": "e9rGPAnRciuy",
        "outputId": "689510e9-1ca7-46ab-8c95-0be99786305b"
      },
      "execution_count": null,
      "outputs": [
        {
          "output_type": "execute_result",
          "data": {
            "text/plain": [
              "3.0    155\n",
              "4.0    144\n",
              "2.0     92\n",
              "1.0     21\n",
              "Name: Stage, dtype: int64"
            ]
          },
          "metadata": {},
          "execution_count": 24
        }
      ]
    },
    {
      "cell_type": "code",
      "source": [
        "df[\"Age\"].value_counts()"
      ],
      "metadata": {
        "colab": {
          "base_uri": "https://localhost:8080/"
        },
        "id": "kAg_gtjjcsO0",
        "outputId": "951db9e1-cdfa-47a1-e984-f132254675db"
      },
      "execution_count": null,
      "outputs": [
        {
          "output_type": "execute_result",
          "data": {
            "text/plain": [
              "52    23\n",
              "56    19\n",
              "48    17\n",
              "44    16\n",
              "51    15\n",
              "41    15\n",
              "46    15\n",
              "62    14\n",
              "49    13\n",
              "54    13\n",
              "55    13\n",
              "53    13\n",
              "58    11\n",
              "61    11\n",
              "50    11\n",
              "40    11\n",
              "42    11\n",
              "38    11\n",
              "67    10\n",
              "35    10\n",
              "33    10\n",
              "43     9\n",
              "47     9\n",
              "45     9\n",
              "63     8\n",
              "59     8\n",
              "36     7\n",
              "64     7\n",
              "37     7\n",
              "57     6\n",
              "70     6\n",
              "34     6\n",
              "60     6\n",
              "66     5\n",
              "32     5\n",
              "69     5\n",
              "39     5\n",
              "65     4\n",
              "68     3\n",
              "30     3\n",
              "31     2\n",
              "75     2\n",
              "74     1\n",
              "72     1\n",
              "78     1\n",
              "28     1\n",
              "29     1\n",
              "71     1\n",
              "76     1\n",
              "26     1\n",
              "Name: Age, dtype: int64"
            ]
          },
          "metadata": {},
          "execution_count": 25
        }
      ]
    },
    {
      "cell_type": "code",
      "source": [
        "# age group konsi stage walo mai jyada hai\n",
        "plt.figure(figsize=(15,5))\n",
        "sns.histplot(x=\"Age\", data=df, hue=\"Stage\")\n",
        "plt.title(\"Age\",fontsize=12)"
      ],
      "metadata": {
        "colab": {
          "base_uri": "https://localhost:8080/",
          "height": 367
        },
        "id": "VCwNXZHWdNU3",
        "outputId": "945f2495-e2da-498d-c229-615322118aff"
      },
      "execution_count": null,
      "outputs": [
        {
          "output_type": "execute_result",
          "data": {
            "text/plain": [
              "Text(0.5, 1.0, 'Age')"
            ]
          },
          "metadata": {},
          "execution_count": 26
        },
        {
          "output_type": "display_data",
          "data": {
            "text/plain": [
              "<Figure size 1080x360 with 1 Axes>"
            ],
            "image/png": "[encoded data removed]"
          },
          "metadata": {
            "needs_background": "light"
          }
        }
      ]
    },
    {
      "cell_type": "code",
      "source": [
        "# drug in which stage\n",
        "plt.figure(figsize=(15,5))\n",
        "sns.histplot(x=\"Drug\", data =df, hue=\"Stage\")\n",
        "plt.title(\"Drug\", fontsize=12)"
      ],
      "metadata": {
        "colab": {
          "base_uri": "https://localhost:8080/",
          "height": 367
        },
        "id": "qHUnEx7SdnjR",
        "outputId": "85d4e09f-59e2-49ab-bf1a-db587d5b7a6a"
      },
      "execution_count": null,
      "outputs": [
        {
          "output_type": "execute_result",
          "data": {
            "text/plain": [
              "Text(0.5, 1.0, 'Drug')"
            ]
          },
          "metadata": {},
          "execution_count": 27
        },
        {
          "output_type": "display_data",
          "data": {
            "text/plain": [
              "<Figure size 1080x360 with 1 Axes>"
            ],
            "image/png": "[encoded data removed]"
          },
          "metadata": {
            "needs_background": "light"
          }
        }
      ]
    },
    {
      "cell_type": "code",
      "source": [
        "df[\"Status\"].value_counts()"
      ],
      "metadata": {
        "colab": {
          "base_uri": "https://localhost:8080/"
        },
        "id": "O4oxfK2QeiuK",
        "outputId": "5ca19473-5595-421f-b4b9-10d0c39272ca"
      },
      "execution_count": null,
      "outputs": [
        {
          "output_type": "execute_result",
          "data": {
            "text/plain": [
              "C     230\n",
              "D     157\n",
              "CL     25\n",
              "Name: Status, dtype: int64"
            ]
          },
          "metadata": {},
          "execution_count": 28
        }
      ]
    },
    {
      "cell_type": "code",
      "source": [
        "plt.figure(figsize=(15,5))\n",
        "sns.histplot(x=\"Status\", data=df, hue=\"Stage\")\n",
        "plt.title(\"Status\", fontsize=12)"
      ],
      "metadata": {
        "colab": {
          "base_uri": "https://localhost:8080/",
          "height": 367
        },
        "id": "RtNyto_Je3VO",
        "outputId": "eb254d79-013b-4424-954e-dd3909f63550"
      },
      "execution_count": null,
      "outputs": [
        {
          "output_type": "execute_result",
          "data": {
            "text/plain": [
              "Text(0.5, 1.0, 'Status')"
            ]
          },
          "metadata": {},
          "execution_count": 29
        },
        {
          "output_type": "display_data",
          "data": {
            "text/plain": [
              "<Figure size 1080x360 with 1 Axes>"
            ],
            "image/png": "[encoded data removed]"
          },
          "metadata": {
            "needs_background": "light"
          }
        }
      ]
    },
    {
      "cell_type": "code",
      "source": [
        "plt.figure(figsize=(15,5))\n",
        "sns.countplot(df[\"Stage\"],palette=\"Set2\")\n",
        "plt.title(\"Stages of cirrhosis\",fontsize=12)\n",
        "plt.show()"
      ],
      "metadata": {
        "colab": {
          "base_uri": "https://localhost:8080/",
          "height": 405
        },
        "id": "OCSAisSpfKJy",
        "outputId": "fa2c0f85-712c-40c6-d6d0-4c4767dbd43b"
      },
      "execution_count": null,
      "outputs": [
        {
          "output_type": "stream",
          "name": "stderr",
          "text": [
            "/usr/local/lib/python3.8/dist-packages/seaborn/_decorators.py:36: FutureWarning: Pass the following variable as a keyword arg: x. From version 0.12, the only valid positional argument will be `data`, and passing other arguments without an explicit keyword will result in an error or misinterpretation.\n",
            "  warnings.warn(\n"
          ]
        },
        {
          "output_type": "display_data",
          "data": {
            "text/plain": [
              "<Figure size 1080x360 with 1 Axes>"
            ],
            "image/png": "[encoded data removed]"
          },
          "metadata": {
            "needs_background": "light"
          }
        }
      ]
    },
    {
      "cell_type": "code",
      "source": [
        "df[\"N_Days\"].value_counts()"
      ],
      "metadata": {
        "colab": {
          "base_uri": "https://localhost:8080/"
        },
        "id": "Vj7f4F5NgXo5",
        "outputId": "1f873149-ec11-448b-91d4-f8cb0e41e71e"
      },
      "execution_count": null,
      "outputs": [
        {
          "output_type": "execute_result",
          "data": {
            "text/plain": [
              "2563    2\n",
              "597     2\n",
              "1434    2\n",
              "1614    2\n",
              "1363    2\n",
              "       ..\n",
              "3098    1\n",
              "3150    1\n",
              "3149    1\n",
              "2796    1\n",
              "976     1\n",
              "Name: N_Days, Length: 394, dtype: int64"
            ]
          },
          "metadata": {},
          "execution_count": 31
        }
      ]
    },
    {
      "cell_type": "code",
      "source": [
        "plt.figure(figsize=(15,5))\n",
        "sns.histplot(x=\"N_Days\",data=df,hue=\"Stage\")\n",
        "plt.title(\"N_Days\",fontsize=12)"
      ],
      "metadata": {
        "colab": {
          "base_uri": "https://localhost:8080/",
          "height": 368
        },
        "id": "LXT-5INhg4_D",
        "outputId": "e926a44a-3b64-4b5c-d069-29d0ee094f97"
      },
      "execution_count": null,
      "outputs": [
        {
          "output_type": "execute_result",
          "data": {
            "text/plain": [
              "Text(0.5, 1.0, 'N_Days')"
            ]
          },
          "metadata": {},
          "execution_count": 32
        },
        {
          "output_type": "display_data",
          "data": {
            "text/plain": [
              "<Figure size 1080x360 with 1 Axes>"
            ],
            "image/png": "[encoded data removed]"
          },
          "metadata": {
            "needs_background": "light"
          }
        }
      ]
    },
    {
      "cell_type": "code",
      "source": [
        "df[\"Sex\"].value_counts()"
      ],
      "metadata": {
        "colab": {
          "base_uri": "https://localhost:8080/"
        },
        "id": "mgVweX8shaWk",
        "outputId": "d9004239-2a4e-404b-f3c5-e0d33e41b61a"
      },
      "execution_count": null,
      "outputs": [
        {
          "output_type": "execute_result",
          "data": {
            "text/plain": [
              "F    368\n",
              "M     44\n",
              "Name: Sex, dtype: int64"
            ]
          },
          "metadata": {},
          "execution_count": 33
        }
      ]
    },
    {
      "cell_type": "code",
      "source": [
        "plt.figure(figsize=(15,5))\n",
        "sns.histplot(x=\"Sex\",data=df,hue=\"Stage\")\n",
        "plt.title(\"Gender\",fontsize=12)"
      ],
      "metadata": {
        "colab": {
          "base_uri": "https://localhost:8080/",
          "height": 367
        },
        "id": "l5uDl4vAh2f4",
        "outputId": "32bd2fec-267f-4552-f094-ac5f566fc742"
      },
      "execution_count": null,
      "outputs": [
        {
          "output_type": "execute_result",
          "data": {
            "text/plain": [
              "Text(0.5, 1.0, 'Gender')"
            ]
          },
          "metadata": {},
          "execution_count": 34
        },
        {
          "output_type": "display_data",
          "data": {
            "text/plain": [
              "<Figure size 1080x360 with 1 Axes>"
            ],
            "image/png": "[encoded data removed]"
          },
          "metadata": {
            "needs_background": "light"
          }
        }
      ]
    },
    {
      "cell_type": "code",
      "source": [
        "df[\"Drug\"].value_counts()"
      ],
      "metadata": {
        "colab": {
          "base_uri": "https://localhost:8080/"
        },
        "id": "GEseZLqSiUvX",
        "outputId": "28d948f2-5c5a-44e4-a1d3-d5390b2068d1"
      },
      "execution_count": null,
      "outputs": [
        {
          "output_type": "execute_result",
          "data": {
            "text/plain": [
              "D-penicillamine    258\n",
              "Placebo            154\n",
              "Name: Drug, dtype: int64"
            ]
          },
          "metadata": {},
          "execution_count": 35
        }
      ]
    },
    {
      "cell_type": "code",
      "source": [
        "plt.figure(figsize=(15,5))\n",
        "sns.countplot(x=\"Drug\", data=df , hue=\"Stage\")\n",
        "plt.title(\"Drug Usage on the basis of Stages\",fontsize=12)\n",
        "plt.show()"
      ],
      "metadata": {
        "colab": {
          "base_uri": "https://localhost:8080/",
          "height": 350
        },
        "id": "eYr8JSpPiee5",
        "outputId": "56b322c3-c554-4222-c879-6d2723637b97"
      },
      "execution_count": null,
      "outputs": [
        {
          "output_type": "display_data",
          "data": {
            "text/plain": [
              "<Figure size 1080x360 with 1 Axes>"
            ],
            "image/png": "[encoded data removed]"
          },
          "metadata": {
            "needs_background": "light"
          }
        }
      ]
    },
    {
      "cell_type": "code",
      "source": [
        "plt.figure(figsize=(15,5))\n",
        "sns.boxplot(x=df[\"Stage\"],y=df[\"Age\"])\n",
        "plt.title(\"Stage vs Age\", size=15)\n",
        "plt.show()"
      ],
      "metadata": {
        "colab": {
          "base_uri": "https://localhost:8080/",
          "height": 352
        },
        "id": "PrLYgobXizcg",
        "outputId": "cf52e646-c6d4-4500-be56-90eaeb3a98b3"
      },
      "execution_count": null,
      "outputs": [
        {
          "output_type": "display_data",
          "data": {
            "text/plain": [
              "<Figure size 1080x360 with 1 Axes>"
            ],
            "image/png": "[encoded data removed]"
          },
          "metadata": {
            "needs_background": "light"
          }
        }
      ]
    },
    {
      "cell_type": "code",
      "source": [
        "df[\"Ascites\"].value_counts()"
      ],
      "metadata": {
        "colab": {
          "base_uri": "https://localhost:8080/"
        },
        "id": "7EA9Fw1Ekw_L",
        "outputId": "0fd61790-9acb-4879-e3f3-99bb0d525cec"
      },
      "execution_count": null,
      "outputs": [
        {
          "output_type": "execute_result",
          "data": {
            "text/plain": [
              "N    388\n",
              "Y     24\n",
              "Name: Ascites, dtype: int64"
            ]
          },
          "metadata": {},
          "execution_count": 38
        }
      ]
    },
    {
      "cell_type": "code",
      "source": [
        "plt.figure(figsize=(15,5))\n",
        "sns.countplot(x=\"Ascites\",data=df,hue=\"Stage\")\n",
        "plt.title(\"Ascites\", fontsize=12)\n",
        "plt.show()"
      ],
      "metadata": {
        "colab": {
          "base_uri": "https://localhost:8080/",
          "height": 350
        },
        "id": "u0Qiyi1rlCjZ",
        "outputId": "80173099-9724-409c-a335-24cee0a0f99f"
      },
      "execution_count": null,
      "outputs": [
        {
          "output_type": "display_data",
          "data": {
            "text/plain": [
              "<Figure size 1080x360 with 1 Axes>"
            ],
            "image/png": "[encoded data removed]"
          },
          "metadata": {
            "needs_background": "light"
          }
        }
      ]
    },
    {
      "cell_type": "code",
      "source": [
        "df.columns"
      ],
      "metadata": {
        "colab": {
          "base_uri": "https://localhost:8080/"
        },
        "id": "Y71dM1OZlX4g",
        "outputId": "a460ee47-4d91-49e4-cbbc-e447b8467928"
      },
      "execution_count": null,
      "outputs": [
        {
          "output_type": "execute_result",
          "data": {
            "text/plain": [
              "Index(['ID', 'N_Days', 'Status', 'Drug', 'Age', 'Sex', 'Ascites',\n",
              "       'Hepatomegaly', 'Spiders', 'Edema', 'Bilirubin', 'Cholesterol',\n",
              "       'Albumin', 'Copper', 'Alk_Phos', 'SGOT', 'Tryglicerides', 'Platelets',\n",
              "       'Prothrombin', 'Stage'],\n",
              "      dtype='object')"
            ]
          },
          "metadata": {},
          "execution_count": 40
        }
      ]
    },
    {
      "cell_type": "code",
      "source": [
        "df[\"Hepatomegaly\"].value_counts()"
      ],
      "metadata": {
        "colab": {
          "base_uri": "https://localhost:8080/"
        },
        "id": "c-4lUtg1lbPo",
        "outputId": "a99b1a3b-0267-4871-9be8-8379680dd7de"
      },
      "execution_count": null,
      "outputs": [
        {
          "output_type": "execute_result",
          "data": {
            "text/plain": [
              "Y    260\n",
              "N    152\n",
              "Name: Hepatomegaly, dtype: int64"
            ]
          },
          "metadata": {},
          "execution_count": 41
        }
      ]
    },
    {
      "cell_type": "code",
      "source": [
        "plt.figure(figsize=(15,5))\n",
        "sns.countplot(x=\"Hepatomegaly\",data=df,hue=\"Stage\")\n",
        "plt.title(\"Hepatomegaly\",fontsize=12)\n",
        "plt.show()"
      ],
      "metadata": {
        "colab": {
          "base_uri": "https://localhost:8080/",
          "height": 350
        },
        "id": "aM5FGfE0lmfs",
        "outputId": "ba45c21f-fc3c-4e18-e4cf-4fb6d0e0bff2"
      },
      "execution_count": null,
      "outputs": [
        {
          "output_type": "display_data",
          "data": {
            "text/plain": [
              "<Figure size 1080x360 with 1 Axes>"
            ],
            "image/png": "[encoded data removed]"
          },
          "metadata": {
            "needs_background": "light"
          }
        }
      ]
    },
    {
      "cell_type": "code",
      "source": [
        "df[\"Spiders\"].value_counts()"
      ],
      "metadata": {
        "colab": {
          "base_uri": "https://localhost:8080/"
        },
        "id": "MR3KWZ_pmMf9",
        "outputId": "70c06585-32ca-4cec-cb75-f6145fc3e824"
      },
      "execution_count": null,
      "outputs": [
        {
          "output_type": "execute_result",
          "data": {
            "text/plain": [
              "N    322\n",
              "Y     90\n",
              "Name: Spiders, dtype: int64"
            ]
          },
          "metadata": {},
          "execution_count": 43
        }
      ]
    },
    {
      "cell_type": "code",
      "source": [
        "plt.figure(figsize=(15,5))\n",
        "sns.countplot(x=\"Spiders\",data=df,hue=\"Stage\")\n",
        "plt.title(\"Spiders over stages\", fontsize=12)\n",
        "plt.show()"
      ],
      "metadata": {
        "colab": {
          "base_uri": "https://localhost:8080/",
          "height": 350
        },
        "id": "j4yP6c0yqoyw",
        "outputId": "90609f68-f784-469a-e35f-72ffc8a72285"
      },
      "execution_count": null,
      "outputs": [
        {
          "output_type": "display_data",
          "data": {
            "text/plain": [
              "<Figure size 1080x360 with 1 Axes>"
            ],
            "image/png": "[encoded data removed]"
          },
          "metadata": {
            "needs_background": "light"
          }
        }
      ]
    },
    {
      "cell_type": "code",
      "source": [
        "df[\"Edema\"].value_counts()"
      ],
      "metadata": {
        "colab": {
          "base_uri": "https://localhost:8080/"
        },
        "id": "uZteXLCeq_kv",
        "outputId": "3b7a3687-a885-4161-8517-54e103fc528f"
      },
      "execution_count": null,
      "outputs": [
        {
          "output_type": "execute_result",
          "data": {
            "text/plain": [
              "N    348\n",
              "S     44\n",
              "Y     20\n",
              "Name: Edema, dtype: int64"
            ]
          },
          "metadata": {},
          "execution_count": 45
        }
      ]
    },
    {
      "cell_type": "code",
      "source": [
        "plt.figure(figsize=(15,5))\n",
        "sns.countplot(x=\"Edema\", data=df ,hue=\"Stage\")\n",
        "plt.title(\"Edema\", fontsize=12)\n",
        "plt.show()"
      ],
      "metadata": {
        "colab": {
          "base_uri": "https://localhost:8080/",
          "height": 350
        },
        "id": "1XzH7ykwrOIN",
        "outputId": "c61ed1c3-be59-467b-c4b1-08a3f5d4d229"
      },
      "execution_count": null,
      "outputs": [
        {
          "output_type": "display_data",
          "data": {
            "text/plain": [
              "<Figure size 1080x360 with 1 Axes>"
            ],
            "image/png": "[encoded data removed]"
          },
          "metadata": {
            "needs_background": "light"
          }
        }
      ]
    },
    {
      "cell_type": "code",
      "source": [
        "df[\"Bilirubin\"].value_counts()"
      ],
      "metadata": {
        "colab": {
          "base_uri": "https://localhost:8080/"
        },
        "id": "idhY-nXrrov_",
        "outputId": "b765a7d3-6e4b-45c5-f6fd-688de4cc1257"
      },
      "execution_count": null,
      "outputs": [
        {
          "output_type": "execute_result",
          "data": {
            "text/plain": [
              "0.7     32\n",
              "0.6     31\n",
              "0.5     23\n",
              "0.8     22\n",
              "1.1     19\n",
              "        ..\n",
              "24.5     1\n",
              "10.8     1\n",
              "3.7      1\n",
              "5.9      1\n",
              "4.6      1\n",
              "Name: Bilirubin, Length: 98, dtype: int64"
            ]
          },
          "metadata": {},
          "execution_count": 47
        }
      ]
    },
    {
      "cell_type": "code",
      "source": [
        "plt.figure(figsize=(15,5))\n",
        "sns.histplot(x=\"Bilirubin\",data=df,hue=\"Stage\")\n",
        "plt.title(\"Bilirubin vs Stage\", fontsize=12)\n",
        "plt.show()"
      ],
      "metadata": {
        "colab": {
          "base_uri": "https://localhost:8080/",
          "height": 350
        },
        "id": "SnUTLxjpr747",
        "outputId": "ecb02005-1192-4f09-884e-3a9ab773877a"
      },
      "execution_count": null,
      "outputs": [
        {
          "output_type": "display_data",
          "data": {
            "text/plain": [
              "<Figure size 1080x360 with 1 Axes>"
            ],
            "image/png": "[encoded data removed]"
          },
          "metadata": {
            "needs_background": "light"
          }
        }
      ]
    },
    {
      "cell_type": "code",
      "source": [
        "df['Cholesterol'].value_counts()"
      ],
      "metadata": {
        "colab": {
          "base_uri": "https://localhost:8080/"
        },
        "id": "OBM6f-jCsyTk",
        "outputId": "1103e9ae-62b7-4f85-de1e-c6ad28968347"
      },
      "execution_count": null,
      "outputs": [
        {
          "output_type": "execute_result",
          "data": {
            "text/plain": [
              "309.5    128\n",
              "260.0      4\n",
              "316.0      4\n",
              "448.0      4\n",
              "257.0      3\n",
              "        ... \n",
              "486.0      1\n",
              "528.0      1\n",
              "458.0      1\n",
              "950.0      1\n",
              "576.0      1\n",
              "Name: Cholesterol, Length: 202, dtype: int64"
            ]
          },
          "metadata": {},
          "execution_count": 49
        }
      ]
    },
    {
      "cell_type": "code",
      "source": [
        "plt.figure(figsize=(15,5))\n",
        "sns.histplot(x=\"Cholesterol\", data=df, hue=\"Stage\")\n",
        "plt.title(\"Cholesterol vs Stage\", fontsize=12)\n",
        "plt.show()"
      ],
      "metadata": {
        "id": "zn7WN86bMp-5"
      },
      "execution_count": null,
      "outputs": []
    },
    {
      "cell_type": "code",
      "source": [
        "plt.figure(figsize=(15,5))\n",
        "sns.histplot(x=\"Cholesterol\", data=df, hue=\"Stage\")\n",
        "plt.title(\"Cholesterol vs Stage\", fontsize=12)\n",
        "plt.show()"
      ],
      "metadata": {
        "colab": {
          "base_uri": "https://localhost:8080/",
          "height": 350
        },
        "id": "QjgDvuQZvG9Q",
        "outputId": "08fd589f-c215-4e81-9ca0-acd098671481"
      },
      "execution_count": null,
      "outputs": [
        {
          "output_type": "display_data",
          "data": {
            "text/plain": [
              "<Figure size 1080x360 with 1 Axes>"
            ],
            "image/png": "[encoded data removed]"
          },
          "metadata": {
            "needs_background": "light"
          }
        }
      ]
    },
    {
      "cell_type": "code",
      "source": [
        "df[\"Albumin\"].value_counts()"
      ],
      "metadata": {
        "colab": {
          "base_uri": "https://localhost:8080/"
        },
        "id": "u53Xu3ACvyQ4",
        "outputId": "c404f46c-45a2-41e8-d60a-0501117aa4e1"
      },
      "execution_count": null,
      "outputs": [
        {
          "output_type": "execute_result",
          "data": {
            "text/plain": [
              "3.35    11\n",
              "3.60     8\n",
              "3.50     8\n",
              "3.70     7\n",
              "3.40     7\n",
              "        ..\n",
              "3.38     1\n",
              "2.43     1\n",
              "3.05     1\n",
              "1.96     1\n",
              "3.17     1\n",
              "Name: Albumin, Length: 153, dtype: int64"
            ]
          },
          "metadata": {},
          "execution_count": 51
        }
      ]
    },
    {
      "cell_type": "code",
      "source": [
        "plt.figure(figsize=(15,5))\n",
        "sns.histplot(x=\"Albumin\", data=df, hue=\"Stage\")\n",
        "plt.title(\"Albumin\",fontsize=12)\n",
        "plt.show()"
      ],
      "metadata": {
        "colab": {
          "base_uri": "https://localhost:8080/",
          "height": 350
        },
        "id": "1NRg3gSDy28I",
        "outputId": "1bb1cdfa-97af-4b64-eb01-7091bc793776"
      },
      "execution_count": null,
      "outputs": [
        {
          "output_type": "display_data",
          "data": {
            "text/plain": [
              "<Figure size 1080x360 with 1 Axes>"
            ],
            "image/png": "[encoded data removed]"
          },
          "metadata": {
            "needs_background": "light"
          }
        }
      ]
    },
    {
      "cell_type": "code",
      "source": [
        "df['Copper'].value_counts()"
      ],
      "metadata": {
        "colab": {
          "base_uri": "https://localhost:8080/"
        },
        "id": "_fFftPw-zlk0",
        "outputId": "18e5df1c-b248-4ba8-c8aa-c96339a0bb29"
      },
      "execution_count": null,
      "outputs": [
        {
          "output_type": "execute_result",
          "data": {
            "text/plain": [
              "73.0     107\n",
              "52.0       8\n",
              "67.0       7\n",
              "58.0       6\n",
              "75.0       6\n",
              "        ... \n",
              "178.0      1\n",
              "110.0      1\n",
              "154.0      1\n",
              "269.0      1\n",
              "186.0      1\n",
              "Name: Copper, Length: 158, dtype: int64"
            ]
          },
          "metadata": {},
          "execution_count": 53
        }
      ]
    },
    {
      "cell_type": "code",
      "source": [
        "plt.figure(figsize=(15,5))\n",
        "sns.histplot(x=\"Copper\", data=df, hue=\"Stage\")\n",
        "plt.title(\"Copper\", fontsize=12)\n",
        "plt.show()"
      ],
      "metadata": {
        "colab": {
          "base_uri": "https://localhost:8080/",
          "height": 350
        },
        "id": "hS-5W8wx0acn",
        "outputId": "ef395632-63ee-46e0-d2c7-6e0ed07dd458"
      },
      "execution_count": null,
      "outputs": [
        {
          "output_type": "display_data",
          "data": {
            "text/plain": [
              "<Figure size 1080x360 with 1 Axes>"
            ],
            "image/png": "[encoded data removed]"
          },
          "metadata": {
            "needs_background": "light"
          }
        }
      ]
    },
    {
      "cell_type": "code",
      "source": [
        "df.corr()[\"Stage\"].abs().sort_values(ascending=False)"
      ],
      "metadata": {
        "colab": {
          "base_uri": "https://localhost:8080/"
        },
        "id": "sY5Dk-6w0rrB",
        "outputId": "d584bc7b-f58b-4a6d-a768-fcbad9b1c2b2"
      },
      "execution_count": null,
      "outputs": [
        {
          "output_type": "execute_result",
          "data": {
            "text/plain": [
              "Stage            1.000000\n",
              "N_Days           0.366193\n",
              "Albumin          0.305296\n",
              "Platelets        0.247242\n",
              "Copper           0.232154\n",
              "Prothrombin      0.206522\n",
              "Bilirubin        0.200731\n",
              "Age              0.186581\n",
              "SGOT             0.143536\n",
              "Tryglicerides    0.099828\n",
              "Alk_Phos         0.037813\n",
              "ID               0.033757\n",
              "Cholesterol      0.009849\n",
              "Name: Stage, dtype: float64"
            ]
          },
          "metadata": {},
          "execution_count": 55
        }
      ]
    },
    {
      "cell_type": "markdown",
      "source": [
        "ID tryglicerides and alk_phos SGOT and cholestrol are weakly correlated"
      ],
      "metadata": {
        "id": "c739_xgQ1Dtn"
      }
    },
    {
      "cell_type": "code",
      "source": [
        "plt.figure(figsize=(15,5))\n",
        "sns.lmplot(x=\"Age\", y=\"Cholesterol\", hue=\"Stage\", data=df)\n",
        "plt.title(\"Age vs cholesterol\")"
      ],
      "metadata": {
        "colab": {
          "base_uri": "https://localhost:8080/",
          "height": 420
        },
        "id": "-unsARBa06Uw",
        "outputId": "c16e3447-f4f9-4e03-ebc9-72c12fdc2ae4"
      },
      "execution_count": null,
      "outputs": [
        {
          "output_type": "execute_result",
          "data": {
            "text/plain": [
              "Text(0.5, 1.0, 'Age vs cholesterol')"
            ]
          },
          "metadata": {},
          "execution_count": 56
        },
        {
          "output_type": "display_data",
          "data": {
            "text/plain": [
              "<Figure size 1080x360 with 0 Axes>"
            ]
          },
          "metadata": {}
        },
        {
          "output_type": "display_data",
          "data": {
            "text/plain": [
              "<Figure size 411.875x360 with 1 Axes>"
            ],
            "image/png": "[encoded data removed]"
          },
          "metadata": {
            "needs_background": "light"
          }
        }
      ]
    },
    {
      "cell_type": "markdown",
      "source": [
        "age vs platelets, alk_phos, triglycerides,prothrombin, sgot\n",
        "cholestrol"
      ],
      "metadata": {
        "id": "fqenX-2F2dGK"
      }
    },
    {
      "cell_type": "code",
      "source": [
        "plt.figure(figsize=(15,5))\n",
        "sns.heatmap(df.corr(),annot=True, cmap=\"RdBu\")\n",
        "plt.title(\"Correlations Between Variables\", size=15)\n",
        "plt.show()"
      ],
      "metadata": {
        "colab": {
          "base_uri": "https://localhost:8080/",
          "height": 391
        },
        "id": "kdWSqMkE1rcP",
        "outputId": "4e4ebc98-bf48-4c47-f49a-a11a826fc121"
      },
      "execution_count": null,
      "outputs": [
        {
          "output_type": "display_data",
          "data": {
            "text/plain": [
              "<Figure size 1080x360 with 2 Axes>"
            ],
            "image/png": "[encoded data removed]"
          },
          "metadata": {
            "needs_background": "light"
          }
        }
      ]
    },
    {
      "cell_type": "markdown",
      "source": [
        "converting categorical valueas to  numerical values"
      ],
      "metadata": {
        "id": "EkzkkaDa4W7u"
      }
    },
    {
      "cell_type": "code",
      "source": [
        "colum_cat=['Status','Drug','Sex','Ascites','Hepatomegaly','Spiders','Edema']\n",
        "for i in colum_cat:\n",
        "  print('-----------------------------')\n",
        "  print(df[i].value_counts())\n",
        "  print('-----------------------------')"
      ],
      "metadata": {
        "colab": {
          "base_uri": "https://localhost:8080/"
        },
        "id": "yL7oKwRp3CGD",
        "outputId": "f4f45fce-2d81-43d9-87f8-ce05681f7746"
      },
      "execution_count": null,
      "outputs": [
        {
          "output_type": "stream",
          "name": "stdout",
          "text": [
            "-----------------------------\n",
            "C     230\n",
            "D     157\n",
            "CL     25\n",
            "Name: Status, dtype: int64\n",
            "-----------------------------\n",
            "-----------------------------\n",
            "D-penicillamine    258\n",
            "Placebo            154\n",
            "Name: Drug, dtype: int64\n",
            "-----------------------------\n",
            "-----------------------------\n",
            "F    368\n",
            "M     44\n",
            "Name: Sex, dtype: int64\n",
            "-----------------------------\n",
            "-----------------------------\n",
            "N    388\n",
            "Y     24\n",
            "Name: Ascites, dtype: int64\n",
            "-----------------------------\n",
            "-----------------------------\n",
            "Y    260\n",
            "N    152\n",
            "Name: Hepatomegaly, dtype: int64\n",
            "-----------------------------\n",
            "-----------------------------\n",
            "N    322\n",
            "Y     90\n",
            "Name: Spiders, dtype: int64\n",
            "-----------------------------\n",
            "-----------------------------\n",
            "N    348\n",
            "S     44\n",
            "Y     20\n",
            "Name: Edema, dtype: int64\n",
            "-----------------------------\n"
          ]
        }
      ]
    },
    {
      "cell_type": "code",
      "source": [
        "from sklearn import preprocessing\n",
        "le = preprocessing.LabelEncoder()\n",
        "\n",
        "cols_cat=['Status','Drug','Sex','Ascites','Hepatomegaly','Spiders','Edema']\n",
        "for col in cols_cat:\n",
        "  df[col]=le.fit_transform(df[col])\n",
        "  print(le.classes_)"
      ],
      "metadata": {
        "colab": {
          "base_uri": "https://localhost:8080/"
        },
        "id": "9HUa5Mvq9Rmu",
        "outputId": "252a1092-26d6-494c-a5d9-462122d829ea"
      },
      "execution_count": null,
      "outputs": [
        {
          "output_type": "stream",
          "name": "stdout",
          "text": [
            "['C' 'CL' 'D']\n",
            "['D-penicillamine' 'Placebo']\n",
            "['F' 'M']\n",
            "['N' 'Y']\n",
            "['N' 'Y']\n",
            "['N' 'Y']\n",
            "['N' 'S' 'Y']\n"
          ]
        }
      ]
    },
    {
      "cell_type": "markdown",
      "source": [
        "Detect outliers"
      ],
      "metadata": {
        "id": "_bFT7qtG_nmm"
      }
    },
    {
      "cell_type": "code",
      "source": [
        "from sklearn.neighbors import LocalOutlierFactor\n",
        "clf = LocalOutlierFactor()\n",
        "y_pred = clf.fit_predict(df)\n",
        "y_pred"
      ],
      "metadata": {
        "colab": {
          "base_uri": "https://localhost:8080/"
        },
        "id": "zk9amgDW_BIK",
        "outputId": "6b9f0b21-3257-4727-8bc9-59e874bbd034"
      },
      "execution_count": null,
      "outputs": [
        {
          "output_type": "execute_result",
          "data": {
            "text/plain": [
              "array([ 1,  1,  1,  1,  1,  1,  1,  1,  1,  1,  1,  1,  1,  1,  1,  1,  1,\n",
              "        1,  1,  1,  1,  1, -1,  1,  1,  1, -1,  1,  1, -1,  1,  1,  1,  1,\n",
              "        1,  1, -1,  1,  1,  1,  1,  1, -1,  1,  1,  1,  1,  1,  1,  1, -1,\n",
              "        1,  1,  1,  1, -1,  1,  1,  1,  1,  1,  1,  1,  1,  1,  1,  1,  1,\n",
              "        1,  1,  1,  1,  1,  1,  1,  1,  1,  1,  1,  1,  1,  1,  1,  1,  1,\n",
              "        1,  1,  1,  1,  1,  1,  1,  1,  1,  1,  1,  1,  1,  1,  1,  1,  1,\n",
              "        1,  1,  1,  1,  1,  1,  1,  1,  1,  1,  1,  1,  1,  1,  1,  1,  1,\n",
              "        1,  1,  1,  1,  1,  1,  1,  1,  1,  1, -1,  1,  1,  1,  1,  1,  1,\n",
              "       -1,  1,  1,  1,  1,  1,  1,  1,  1,  1,  1,  1,  1,  1,  1,  1,  1,\n",
              "        1,  1,  1,  1,  1,  1,  1,  1,  1,  1,  1,  1, -1,  1,  1,  1,  1,\n",
              "        1,  1,  1,  1,  1,  1,  1,  1,  1,  1,  1,  1,  1,  1,  1,  1,  1,\n",
              "        1,  1,  1, -1,  1,  1,  1,  1,  1,  1,  1,  1,  1,  1,  1,  1,  1,\n",
              "        1,  1,  1,  1,  1,  1,  1,  1,  1,  1, -1,  1,  1,  1,  1,  1,  1,\n",
              "        1,  1,  1,  1,  1,  1,  1,  1,  1,  1,  1,  1,  1,  1,  1,  1,  1,\n",
              "        1,  1,  1,  1,  1,  1,  1,  1, -1,  1,  1,  1,  1,  1,  1,  1,  1,\n",
              "        1,  1,  1,  1,  1,  1,  1,  1,  1,  1,  1,  1,  1,  1,  1,  1,  1,\n",
              "        1,  1,  1,  1,  1,  1,  1,  1,  1,  1,  1,  1,  1,  1,  1,  1,  1,\n",
              "        1,  1,  1,  1,  1,  1,  1,  1,  1,  1,  1,  1,  1,  1,  1,  1,  1,\n",
              "        1,  1,  1,  1,  1,  1,  1,  1,  1,  1,  1,  1,  1,  1,  1,  1,  1,\n",
              "        1,  1,  1,  1,  1,  1,  1,  1,  1,  1,  1,  1,  1,  1,  1,  1,  1,\n",
              "        1,  1,  1,  1,  1,  1,  1,  1,  1,  1,  1,  1,  1,  1,  1,  1,  1,\n",
              "        1,  1,  1,  1,  1,  1,  1,  1,  1,  1,  1,  1,  1,  1,  1,  1,  1,\n",
              "        1,  1,  1,  1,  1,  1,  1,  1,  1,  1,  1,  1,  1,  1,  1,  1,  1,\n",
              "        1,  1,  1,  1,  1,  1,  1,  1,  1,  1,  1,  1,  1,  1,  1,  1,  1,\n",
              "        1,  1,  1,  1])"
            ]
          },
          "metadata": {},
          "execution_count": 60
        }
      ]
    },
    {
      "cell_type": "code",
      "source": [
        "x_score=clf.negative_outlier_factor_\n",
        "outlier_score=pd.DataFrame()\n",
        "outlier_score[\"score\"]=x_score\n",
        "\n",
        "#threshold\n",
        "threshold2 =-1.5\n",
        "filtre2 = outlier_score[\"score\"]<threshold2\n",
        "outlier_index = outlier_score[filtre2].index.tolist()"
      ],
      "metadata": {
        "id": "C0LwSB4J_5VE"
      },
      "execution_count": null,
      "outputs": []
    },
    {
      "cell_type": "code",
      "source": [
        "len(outlier_index)"
      ],
      "metadata": {
        "colab": {
          "base_uri": "https://localhost:8080/"
        },
        "id": "__rceqCYAPVb",
        "outputId": "c9b38ff3-aca0-4757-bdd0-e4194db5dc44"
      },
      "execution_count": null,
      "outputs": [
        {
          "output_type": "execute_result",
          "data": {
            "text/plain": [
              "13"
            ]
          },
          "metadata": {},
          "execution_count": 62
        }
      ]
    },
    {
      "cell_type": "markdown",
      "source": [
        "imbalanced data"
      ],
      "metadata": {
        "id": "Yt5A3Yt6BeVj"
      }
    },
    {
      "cell_type": "code",
      "source": [
        "df['Stage'] = np.where(df['Stage'] == 4,1,0)"
      ],
      "metadata": {
        "id": "GwtSEROULxUC"
      },
      "execution_count": null,
      "outputs": []
    },
    {
      "cell_type": "code",
      "source": [],
      "metadata": {
        "id": "-U06RlvqLz7y"
      },
      "execution_count": null,
      "outputs": []
    }
  ]
}